{
 "cells": [
  {
   "cell_type": "code",
   "execution_count": 1,
   "id": "8a7902f3",
   "metadata": {},
   "outputs": [],
   "source": [
    "# Importing Libraries:\n",
    "import pandas as pd\n",
    "import numpy as np\n",
    "import tensorflow as tf\n",
    "import seaborn as sns\n",
    "import matplotlib.pyplot as plt"
   ]
  },
  {
   "cell_type": "code",
   "execution_count": 2,
   "id": "7d834b9d",
   "metadata": {},
   "outputs": [],
   "source": [
    "# for displaying all feature from dataset:\n",
    "pd.pandas.set_option('display.max_columns', None)"
   ]
  },
  {
   "cell_type": "code",
   "execution_count": 3,
   "id": "4bd4a955",
   "metadata": {},
   "outputs": [
    {
     "data": {
      "text/html": [
       "<div>\n",
       "<style scoped>\n",
       "    .dataframe tbody tr th:only-of-type {\n",
       "        vertical-align: middle;\n",
       "    }\n",
       "\n",
       "    .dataframe tbody tr th {\n",
       "        vertical-align: top;\n",
       "    }\n",
       "\n",
       "    .dataframe thead th {\n",
       "        text-align: right;\n",
       "    }\n",
       "</style>\n",
       "<table border=\"1\" class=\"dataframe\">\n",
       "  <thead>\n",
       "    <tr style=\"text-align: right;\">\n",
       "      <th></th>\n",
       "      <th>age</th>\n",
       "      <th>gender</th>\n",
       "      <th>nhiss</th>\n",
       "      <th>severity_level</th>\n",
       "      <th>mrs</th>\n",
       "      <th>systolic</th>\n",
       "      <th>distolic</th>\n",
       "      <th>glucose</th>\n",
       "      <th>paralysis</th>\n",
       "      <th>smoking</th>\n",
       "      <th>bmi</th>\n",
       "      <th>cholestrol</th>\n",
       "      <th>tos</th>\n",
       "      <th>risk</th>\n",
       "    </tr>\n",
       "  </thead>\n",
       "  <tbody>\n",
       "    <tr>\n",
       "      <th>0</th>\n",
       "      <td>75</td>\n",
       "      <td>1</td>\n",
       "      <td>4</td>\n",
       "      <td>1</td>\n",
       "      <td>1</td>\n",
       "      <td>140</td>\n",
       "      <td>89</td>\n",
       "      <td>190</td>\n",
       "      <td>1</td>\n",
       "      <td>1</td>\n",
       "      <td>25</td>\n",
       "      <td>205</td>\n",
       "      <td>1</td>\n",
       "      <td>1</td>\n",
       "    </tr>\n",
       "    <tr>\n",
       "      <th>1</th>\n",
       "      <td>68</td>\n",
       "      <td>1</td>\n",
       "      <td>1</td>\n",
       "      <td>1</td>\n",
       "      <td>1</td>\n",
       "      <td>133</td>\n",
       "      <td>116</td>\n",
       "      <td>174</td>\n",
       "      <td>1</td>\n",
       "      <td>0</td>\n",
       "      <td>35</td>\n",
       "      <td>206</td>\n",
       "      <td>1</td>\n",
       "      <td>1</td>\n",
       "    </tr>\n",
       "    <tr>\n",
       "      <th>2</th>\n",
       "      <td>88</td>\n",
       "      <td>0</td>\n",
       "      <td>1</td>\n",
       "      <td>1</td>\n",
       "      <td>1</td>\n",
       "      <td>124</td>\n",
       "      <td>118</td>\n",
       "      <td>79</td>\n",
       "      <td>2</td>\n",
       "      <td>0</td>\n",
       "      <td>35</td>\n",
       "      <td>239</td>\n",
       "      <td>1</td>\n",
       "      <td>1</td>\n",
       "    </tr>\n",
       "    <tr>\n",
       "      <th>3</th>\n",
       "      <td>58</td>\n",
       "      <td>0</td>\n",
       "      <td>4</td>\n",
       "      <td>1</td>\n",
       "      <td>0</td>\n",
       "      <td>126</td>\n",
       "      <td>105</td>\n",
       "      <td>198</td>\n",
       "      <td>0</td>\n",
       "      <td>0</td>\n",
       "      <td>25</td>\n",
       "      <td>222</td>\n",
       "      <td>1</td>\n",
       "      <td>1</td>\n",
       "    </tr>\n",
       "    <tr>\n",
       "      <th>4</th>\n",
       "      <td>50</td>\n",
       "      <td>1</td>\n",
       "      <td>3</td>\n",
       "      <td>1</td>\n",
       "      <td>2</td>\n",
       "      <td>140</td>\n",
       "      <td>106</td>\n",
       "      <td>87</td>\n",
       "      <td>0</td>\n",
       "      <td>0</td>\n",
       "      <td>39</td>\n",
       "      <td>222</td>\n",
       "      <td>1</td>\n",
       "      <td>2</td>\n",
       "    </tr>\n",
       "  </tbody>\n",
       "</table>\n",
       "</div>"
      ],
      "text/plain": [
       "   age  gender  nhiss  severity_level  mrs  systolic  distolic  glucose  \\\n",
       "0   75       1      4               1    1       140        89      190   \n",
       "1   68       1      1               1    1       133       116      174   \n",
       "2   88       0      1               1    1       124       118       79   \n",
       "3   58       0      4               1    0       126       105      198   \n",
       "4   50       1      3               1    2       140       106       87   \n",
       "\n",
       "   paralysis  smoking  bmi  cholestrol  tos  risk  \n",
       "0          1        1   25         205    1     1  \n",
       "1          1        0   35         206    1     1  \n",
       "2          2        0   35         239    1     1  \n",
       "3          0        0   25         222    1     1  \n",
       "4          0        0   39         222    1     2  "
      ]
     },
     "execution_count": 3,
     "metadata": {},
     "output_type": "execute_result"
    }
   ],
   "source": [
    "# Reading Dataset:\n",
    "dataset = pd.read_csv(\"Resources/Prepped_Stroke_Data.csv\")\n",
    "# Top 5 records:\n",
    "dataset.head()"
   ]
  },
  {
   "cell_type": "markdown",
   "id": "2aaa73e0",
   "metadata": {},
   "source": [
    "# Attribute Information\n",
    "id: unique identifier\n",
    "gender: \"Male\", \"Female\"\n",
    "\n",
    "age: age of the patient\n",
    "\n",
    "Systolic: blood pressure of patient\n",
    "Distolic: blood pressure of patient\n",
    "\n",
    "Paralysis: effects of a stroke \n",
    "\n",
    "Nhiss: As a general rule, a score over 16 predicts a strong probability of patient death, while a score of 6 or lower indicates a strong possibility for a good recovery. Each 1-point increase on the scale lowers the possibility of a positive outcome for the patient by 17 percent.\n",
    "\n",
    "mRs: (mRS) assesses disability in patients who have suffered a stroke and is compared over time to check for recovery and degree of continued disability. A score of 0 is no disability, 5 is disability requiring constant care for all needs; 6 is death.\n",
    "\n",
    "avg_glucose_level: average glucose level in blood\n",
    "\n",
    "bmi: body mass index\n",
    "\n",
    "smoking: 0 none, 1 Yes\n",
    "\n"
   ]
  },
  {
   "cell_type": "code",
   "execution_count": 5,
   "id": "a0ce944a",
   "metadata": {},
   "outputs": [
    {
     "data": {
      "text/plain": [
       "(4550, 14)"
      ]
     },
     "execution_count": 5,
     "metadata": {},
     "output_type": "execute_result"
    }
   ],
   "source": [
    "# Shape of dataset:\n",
    "dataset.shape"
   ]
  },
  {
   "cell_type": "code",
   "execution_count": 6,
   "id": "55acd909",
   "metadata": {},
   "outputs": [
    {
     "data": {
      "text/plain": [
       "age               0\n",
       "gender            0\n",
       "nhiss             0\n",
       "severity_level    0\n",
       "mrs               0\n",
       "systolic          0\n",
       "distolic          0\n",
       "glucose           0\n",
       "paralysis         0\n",
       "smoking           0\n",
       "bmi               0\n",
       "cholestrol        0\n",
       "tos               0\n",
       "risk              0\n",
       "dtype: int64"
      ]
     },
     "execution_count": 6,
     "metadata": {},
     "output_type": "execute_result"
    }
   ],
   "source": [
    "dataset.isnull().sum()"
   ]
  },
  {
   "cell_type": "code",
   "execution_count": 7,
   "id": "6a8d4689",
   "metadata": {},
   "outputs": [
    {
     "data": {
      "text/html": [
       "<div>\n",
       "<style scoped>\n",
       "    .dataframe tbody tr th:only-of-type {\n",
       "        vertical-align: middle;\n",
       "    }\n",
       "\n",
       "    .dataframe tbody tr th {\n",
       "        vertical-align: top;\n",
       "    }\n",
       "\n",
       "    .dataframe thead th {\n",
       "        text-align: right;\n",
       "    }\n",
       "</style>\n",
       "<table border=\"1\" class=\"dataframe\">\n",
       "  <thead>\n",
       "    <tr style=\"text-align: right;\">\n",
       "      <th></th>\n",
       "      <th>age</th>\n",
       "      <th>gender</th>\n",
       "      <th>nhiss</th>\n",
       "      <th>severity_level</th>\n",
       "      <th>mrs</th>\n",
       "      <th>systolic</th>\n",
       "      <th>distolic</th>\n",
       "      <th>glucose</th>\n",
       "      <th>paralysis</th>\n",
       "      <th>smoking</th>\n",
       "      <th>bmi</th>\n",
       "      <th>cholestrol</th>\n",
       "      <th>tos</th>\n",
       "      <th>risk</th>\n",
       "    </tr>\n",
       "  </thead>\n",
       "  <tbody>\n",
       "    <tr>\n",
       "      <th>count</th>\n",
       "      <td>4550.000000</td>\n",
       "      <td>4550.000000</td>\n",
       "      <td>4550.000000</td>\n",
       "      <td>4550.000000</td>\n",
       "      <td>4550.000000</td>\n",
       "      <td>4550.000000</td>\n",
       "      <td>4550.000000</td>\n",
       "      <td>4550.000000</td>\n",
       "      <td>4550.000000</td>\n",
       "      <td>4550.000000</td>\n",
       "      <td>4550.000000</td>\n",
       "      <td>4550.000000</td>\n",
       "      <td>4550.000000</td>\n",
       "      <td>4550.000000</td>\n",
       "    </tr>\n",
       "    <tr>\n",
       "      <th>mean</th>\n",
       "      <td>46.844615</td>\n",
       "      <td>0.351209</td>\n",
       "      <td>18.643736</td>\n",
       "      <td>2.829890</td>\n",
       "      <td>3.855165</td>\n",
       "      <td>153.969451</td>\n",
       "      <td>104.305275</td>\n",
       "      <td>230.763077</td>\n",
       "      <td>1.392747</td>\n",
       "      <td>0.908791</td>\n",
       "      <td>34.194725</td>\n",
       "      <td>217.811868</td>\n",
       "      <td>2.117363</td>\n",
       "      <td>1.926374</td>\n",
       "    </tr>\n",
       "    <tr>\n",
       "      <th>std</th>\n",
       "      <td>23.582333</td>\n",
       "      <td>0.477401</td>\n",
       "      <td>10.584101</td>\n",
       "      <td>0.937991</td>\n",
       "      <td>1.626443</td>\n",
       "      <td>24.697220</td>\n",
       "      <td>18.144888</td>\n",
       "      <td>50.459063</td>\n",
       "      <td>1.091058</td>\n",
       "      <td>0.900056</td>\n",
       "      <td>5.843633</td>\n",
       "      <td>20.245259</td>\n",
       "      <td>0.762574</td>\n",
       "      <td>0.402874</td>\n",
       "    </tr>\n",
       "    <tr>\n",
       "      <th>min</th>\n",
       "      <td>1.000000</td>\n",
       "      <td>0.000000</td>\n",
       "      <td>1.000000</td>\n",
       "      <td>1.000000</td>\n",
       "      <td>0.000000</td>\n",
       "      <td>100.000000</td>\n",
       "      <td>59.000000</td>\n",
       "      <td>70.000000</td>\n",
       "      <td>0.000000</td>\n",
       "      <td>0.000000</td>\n",
       "      <td>18.000000</td>\n",
       "      <td>160.000000</td>\n",
       "      <td>1.000000</td>\n",
       "      <td>1.000000</td>\n",
       "    </tr>\n",
       "    <tr>\n",
       "      <th>25%</th>\n",
       "      <td>28.000000</td>\n",
       "      <td>0.000000</td>\n",
       "      <td>12.000000</td>\n",
       "      <td>2.000000</td>\n",
       "      <td>3.000000</td>\n",
       "      <td>135.000000</td>\n",
       "      <td>92.000000</td>\n",
       "      <td>215.000000</td>\n",
       "      <td>0.000000</td>\n",
       "      <td>0.000000</td>\n",
       "      <td>29.250000</td>\n",
       "      <td>206.000000</td>\n",
       "      <td>2.000000</td>\n",
       "      <td>2.000000</td>\n",
       "    </tr>\n",
       "    <tr>\n",
       "      <th>50%</th>\n",
       "      <td>49.000000</td>\n",
       "      <td>0.000000</td>\n",
       "      <td>18.000000</td>\n",
       "      <td>3.000000</td>\n",
       "      <td>4.000000</td>\n",
       "      <td>155.000000</td>\n",
       "      <td>105.000000</td>\n",
       "      <td>241.000000</td>\n",
       "      <td>1.000000</td>\n",
       "      <td>1.000000</td>\n",
       "      <td>34.000000</td>\n",
       "      <td>219.000000</td>\n",
       "      <td>2.000000</td>\n",
       "      <td>2.000000</td>\n",
       "    </tr>\n",
       "    <tr>\n",
       "      <th>75%</th>\n",
       "      <td>66.000000</td>\n",
       "      <td>1.000000</td>\n",
       "      <td>25.000000</td>\n",
       "      <td>4.000000</td>\n",
       "      <td>5.000000</td>\n",
       "      <td>175.000000</td>\n",
       "      <td>119.000000</td>\n",
       "      <td>269.000000</td>\n",
       "      <td>2.000000</td>\n",
       "      <td>2.000000</td>\n",
       "      <td>39.000000</td>\n",
       "      <td>234.000000</td>\n",
       "      <td>3.000000</td>\n",
       "      <td>2.000000</td>\n",
       "    </tr>\n",
       "    <tr>\n",
       "      <th>max</th>\n",
       "      <td>90.000000</td>\n",
       "      <td>1.000000</td>\n",
       "      <td>42.000000</td>\n",
       "      <td>4.000000</td>\n",
       "      <td>6.000000</td>\n",
       "      <td>195.000000</td>\n",
       "      <td>135.000000</td>\n",
       "      <td>295.000000</td>\n",
       "      <td>3.000000</td>\n",
       "      <td>3.000000</td>\n",
       "      <td>45.000000</td>\n",
       "      <td>253.000000</td>\n",
       "      <td>3.000000</td>\n",
       "      <td>3.000000</td>\n",
       "    </tr>\n",
       "  </tbody>\n",
       "</table>\n",
       "</div>"
      ],
      "text/plain": [
       "               age       gender        nhiss  severity_level          mrs  \\\n",
       "count  4550.000000  4550.000000  4550.000000     4550.000000  4550.000000   \n",
       "mean     46.844615     0.351209    18.643736        2.829890     3.855165   \n",
       "std      23.582333     0.477401    10.584101        0.937991     1.626443   \n",
       "min       1.000000     0.000000     1.000000        1.000000     0.000000   \n",
       "25%      28.000000     0.000000    12.000000        2.000000     3.000000   \n",
       "50%      49.000000     0.000000    18.000000        3.000000     4.000000   \n",
       "75%      66.000000     1.000000    25.000000        4.000000     5.000000   \n",
       "max      90.000000     1.000000    42.000000        4.000000     6.000000   \n",
       "\n",
       "          systolic     distolic      glucose    paralysis      smoking  \\\n",
       "count  4550.000000  4550.000000  4550.000000  4550.000000  4550.000000   \n",
       "mean    153.969451   104.305275   230.763077     1.392747     0.908791   \n",
       "std      24.697220    18.144888    50.459063     1.091058     0.900056   \n",
       "min     100.000000    59.000000    70.000000     0.000000     0.000000   \n",
       "25%     135.000000    92.000000   215.000000     0.000000     0.000000   \n",
       "50%     155.000000   105.000000   241.000000     1.000000     1.000000   \n",
       "75%     175.000000   119.000000   269.000000     2.000000     2.000000   \n",
       "max     195.000000   135.000000   295.000000     3.000000     3.000000   \n",
       "\n",
       "               bmi   cholestrol          tos         risk  \n",
       "count  4550.000000  4550.000000  4550.000000  4550.000000  \n",
       "mean     34.194725   217.811868     2.117363     1.926374  \n",
       "std       5.843633    20.245259     0.762574     0.402874  \n",
       "min      18.000000   160.000000     1.000000     1.000000  \n",
       "25%      29.250000   206.000000     2.000000     2.000000  \n",
       "50%      34.000000   219.000000     2.000000     2.000000  \n",
       "75%      39.000000   234.000000     3.000000     2.000000  \n",
       "max      45.000000   253.000000     3.000000     3.000000  "
      ]
     },
     "execution_count": 7,
     "metadata": {},
     "output_type": "execute_result"
    }
   ],
   "source": [
    "# Description:\n",
    "dataset.describe()"
   ]
  },
  {
   "cell_type": "code",
   "execution_count": 8,
   "id": "495d5d43",
   "metadata": {},
   "outputs": [
    {
     "data": {
      "text/plain": [
       "age               int64\n",
       "gender            int64\n",
       "nhiss             int64\n",
       "severity_level    int64\n",
       "mrs               int64\n",
       "systolic          int64\n",
       "distolic          int64\n",
       "glucose           int64\n",
       "paralysis         int64\n",
       "smoking           int64\n",
       "bmi               int64\n",
       "cholestrol        int64\n",
       "tos               int64\n",
       "risk              int64\n",
       "dtype: object"
      ]
     },
     "execution_count": 8,
     "metadata": {},
     "output_type": "execute_result"
    }
   ],
   "source": [
    "# Datatypes:\n",
    "dataset.dtypes"
   ]
  },
  {
   "cell_type": "code",
   "execution_count": 9,
   "id": "0eb2650b",
   "metadata": {},
   "outputs": [
    {
     "data": {
      "text/plain": [
       "0    2952\n",
       "1    1598\n",
       "Name: gender, dtype: int64"
      ]
     },
     "execution_count": 9,
     "metadata": {},
     "output_type": "execute_result"
    }
   ],
   "source": [
    "# Gender\n",
    "dataset['gender'].value_counts()"
   ]
  },
  {
   "cell_type": "code",
   "execution_count": 10,
   "id": "fd77ab74",
   "metadata": {},
   "outputs": [
    {
     "name": "stdout",
     "output_type": "stream",
     "text": [
      "Male    :  2952\n",
      "female  :  1598\n"
     ]
    }
   ],
   "source": [
    "# Gender:\n",
    "print(\"Male    : \", dataset['gender'].value_counts()[0])\n",
    "print(\"female  : \", dataset['gender'].value_counts()[1])"
   ]
  },
  {
   "cell_type": "code",
   "execution_count": 11,
   "id": "0ea58038",
   "metadata": {},
   "outputs": [
    {
     "name": "stdout",
     "output_type": "stream",
     "text": [
      "Never Smoked      :  1925\n",
      "Unknown           :  1259\n",
      "Formerly Smoked   :  1222\n",
      "Smokes            :  144\n"
     ]
    }
   ],
   "source": [
    "# Smokers:\n",
    "print(\"Never Smoked      : \", dataset['smoking'].value_counts()[0])\n",
    "print(\"Unknown           : \", dataset['smoking'].value_counts()[1])\n",
    "print(\"Formerly Smoked   : \", dataset['smoking'].value_counts()[2])\n",
    "print(\"Smokes            : \", dataset['smoking'].value_counts()[3])"
   ]
  },
  {
   "cell_type": "code",
   "execution_count": 44,
   "id": "ae35be60",
   "metadata": {},
   "outputs": [],
   "source": [
    "# Data\n",
    "Never_Smoked = np.array([1925])\n",
    "Unknown = np.array([1259])\n",
    "Formerly_Smoked = np.array([1222])\n",
    "Smokes  = np.array([144]) "
   ]
  },
  {
   "cell_type": "code",
   "execution_count": 45,
   "id": "d88f0894",
   "metadata": {},
   "outputs": [],
   "source": [
    "# Calculate the average\n",
    "Never_Smoked_mean = np.mean(Never_Smoked)\n",
    "Unknown_mean = np.mean(Unknown)\n",
    "Formerly_Smoked_mean = np.mean(Formerly_Smoked)\n",
    "Smokes_mean = np.mean(Smokes)\n"
   ]
  },
  {
   "cell_type": "code",
   "execution_count": 47,
   "id": "eac4294a",
   "metadata": {},
   "outputs": [],
   "source": [
    "# Create arrays for the plot\n",
    "patients = ['Never_Smoked','Unknown', 'Formerly_Smoked', 'Smokes']\n",
    "x_pos = np.arange(len(patients))\n",
    "CTEs = [Never_Smoked_mean, Unknown_mean, Formerly_Smoked_mean,Smokes_mean ]"
   ]
  },
  {
   "cell_type": "code",
   "execution_count": 50,
   "id": "8cdc6f65",
   "metadata": {},
   "outputs": [
    {
     "ename": "NameError",
     "evalue": "name 'Smokers' is not defined",
     "output_type": "error",
     "traceback": [
      "\u001b[1;31m---------------------------------------------------------------------------\u001b[0m",
      "\u001b[1;31mNameError\u001b[0m                                 Traceback (most recent call last)",
      "Input \u001b[1;32mIn [50]\u001b[0m, in \u001b[0;36m<cell line: 5>\u001b[1;34m()\u001b[0m\n\u001b[0;32m      2\u001b[0m fig, ax \u001b[38;5;241m=\u001b[39m plt\u001b[38;5;241m.\u001b[39msubplots()\n\u001b[0;32m      4\u001b[0m ax\u001b[38;5;241m.\u001b[39mbar(x_pos, CTEs, align\u001b[38;5;241m=\u001b[39m\u001b[38;5;124m'\u001b[39m\u001b[38;5;124mcenter\u001b[39m\u001b[38;5;124m'\u001b[39m, alpha\u001b[38;5;241m=\u001b[39m\u001b[38;5;241m0.5\u001b[39m)\n\u001b[1;32m----> 5\u001b[0m ax\u001b[38;5;241m.\u001b[39mset_ylabel(\u001b[43mSmokers\u001b[49m)\n\u001b[0;32m      6\u001b[0m ax\u001b[38;5;241m.\u001b[39mset_xticks(x_pos)\n\u001b[0;32m      7\u001b[0m ax\u001b[38;5;241m.\u001b[39mset_xticklabels(patients)\n",
      "\u001b[1;31mNameError\u001b[0m: name 'Smokers' is not defined"
     ]
    },
    {
     "data": {
      "image/png": "[encoded data removed]",
      "text/plain": [
       "<Figure size 432x288 with 1 Axes>"
      ]
     },
     "metadata": {
      "needs_background": "light"
     },
     "output_type": "display_data"
    }
   ],
   "source": [
    "# Build the plot\n",
    "fig, ax = plt.subplots()\n",
    "\n",
    "ax.bar(x_pos, CTEs, align='center', alpha=0.5)\n",
    "ax.set_ylabel(Smokers)\n",
    "ax.set_xticks(x_pos)\n",
    "ax.set_xticklabels(patients)\n",
    "ax.set_title('Coefficent of Thermal Expansion (CTE) of Three Metals')\n",
    "ax.yaxis.grid(True)\n",
    "\n",
    "\n",
    "# Save the figure and show\n",
    "plt.tight_layout()\n",
    "plt.savefig('bar_plot.png')\n",
    "plt.show()"
   ]
  },
  {
   "cell_type": "code",
   "execution_count": 21,
   "id": "c293fa31",
   "metadata": {},
   "outputs": [],
   "source": [
    "# Good BMI:\n",
    "counter=0\n",
    "for i in range(18,26):\n",
    "    num=dataset[\"bmi\"].value_counts()[i]\n",
    "    counter += num"
   ]
  },
  {
   "cell_type": "code",
   "execution_count": 22,
   "id": "9ce64acb",
   "metadata": {},
   "outputs": [
    {
     "name": "stdout",
     "output_type": "stream",
     "text": [
      "Good BMI: 270\n"
     ]
    }
   ],
   "source": [
    "print(\"Good BMI:\", counter)"
   ]
  },
  {
   "cell_type": "code",
   "execution_count": 23,
   "id": "aebf813a",
   "metadata": {},
   "outputs": [],
   "source": [
    "# High BMI:\n",
    "counter=0\n",
    "for i in range(26,35):\n",
    "    num=dataset[\"bmi\"].value_counts()[i]\n",
    "    counter += num"
   ]
  },
  {
   "cell_type": "code",
   "execution_count": 24,
   "id": "93e20cde",
   "metadata": {},
   "outputs": [
    {
     "name": "stdout",
     "output_type": "stream",
     "text": [
      "High BMI: 2092\n"
     ]
    }
   ],
   "source": [
    "print(\"High BMI:\", counter)"
   ]
  },
  {
   "cell_type": "code",
   "execution_count": 25,
   "id": "46160756",
   "metadata": {},
   "outputs": [
    {
     "data": {
      "image/png": "[encoded data removed]",
      "text/plain": [
       "<Figure size 864x576 with 2 Axes>"
      ]
     },
     "metadata": {
      "needs_background": "light"
     },
     "output_type": "display_data"
    }
   ],
   "source": [
    "# Correlation using Heatmap:\n",
    "plt.figure(figsize=(12,8))\n",
    "sns.heatmap(dataset.corr(), annot=True, cmap='YlGnBu')\n",
    "plt.show()"
   ]
  },
  {
   "cell_type": "code",
   "execution_count": 26,
   "id": "29c835de",
   "metadata": {},
   "outputs": [
    {
     "data": {
      "text/html": [
       "<div>\n",
       "<style scoped>\n",
       "    .dataframe tbody tr th:only-of-type {\n",
       "        vertical-align: middle;\n",
       "    }\n",
       "\n",
       "    .dataframe tbody tr th {\n",
       "        vertical-align: top;\n",
       "    }\n",
       "\n",
       "    .dataframe thead th {\n",
       "        text-align: right;\n",
       "    }\n",
       "</style>\n",
       "<table border=\"1\" class=\"dataframe\">\n",
       "  <thead>\n",
       "    <tr style=\"text-align: right;\">\n",
       "      <th></th>\n",
       "      <th>age</th>\n",
       "      <th>gender</th>\n",
       "      <th>nhiss</th>\n",
       "      <th>severity_level</th>\n",
       "      <th>mrs</th>\n",
       "      <th>systolic</th>\n",
       "      <th>distolic</th>\n",
       "      <th>glucose</th>\n",
       "      <th>paralysis</th>\n",
       "      <th>smoking</th>\n",
       "      <th>bmi</th>\n",
       "      <th>cholestrol</th>\n",
       "      <th>tos</th>\n",
       "      <th>risk</th>\n",
       "    </tr>\n",
       "  </thead>\n",
       "  <tbody>\n",
       "    <tr>\n",
       "      <th>0</th>\n",
       "      <td>75</td>\n",
       "      <td>1</td>\n",
       "      <td>4</td>\n",
       "      <td>1</td>\n",
       "      <td>1</td>\n",
       "      <td>140</td>\n",
       "      <td>89</td>\n",
       "      <td>190</td>\n",
       "      <td>1</td>\n",
       "      <td>1</td>\n",
       "      <td>25</td>\n",
       "      <td>205</td>\n",
       "      <td>1</td>\n",
       "      <td>1</td>\n",
       "    </tr>\n",
       "    <tr>\n",
       "      <th>1</th>\n",
       "      <td>68</td>\n",
       "      <td>1</td>\n",
       "      <td>1</td>\n",
       "      <td>1</td>\n",
       "      <td>1</td>\n",
       "      <td>133</td>\n",
       "      <td>116</td>\n",
       "      <td>174</td>\n",
       "      <td>1</td>\n",
       "      <td>0</td>\n",
       "      <td>35</td>\n",
       "      <td>206</td>\n",
       "      <td>1</td>\n",
       "      <td>1</td>\n",
       "    </tr>\n",
       "    <tr>\n",
       "      <th>2</th>\n",
       "      <td>88</td>\n",
       "      <td>0</td>\n",
       "      <td>1</td>\n",
       "      <td>1</td>\n",
       "      <td>1</td>\n",
       "      <td>124</td>\n",
       "      <td>118</td>\n",
       "      <td>79</td>\n",
       "      <td>2</td>\n",
       "      <td>0</td>\n",
       "      <td>35</td>\n",
       "      <td>239</td>\n",
       "      <td>1</td>\n",
       "      <td>1</td>\n",
       "    </tr>\n",
       "    <tr>\n",
       "      <th>3</th>\n",
       "      <td>58</td>\n",
       "      <td>0</td>\n",
       "      <td>4</td>\n",
       "      <td>1</td>\n",
       "      <td>0</td>\n",
       "      <td>126</td>\n",
       "      <td>105</td>\n",
       "      <td>198</td>\n",
       "      <td>0</td>\n",
       "      <td>0</td>\n",
       "      <td>25</td>\n",
       "      <td>222</td>\n",
       "      <td>1</td>\n",
       "      <td>1</td>\n",
       "    </tr>\n",
       "    <tr>\n",
       "      <th>4</th>\n",
       "      <td>50</td>\n",
       "      <td>1</td>\n",
       "      <td>3</td>\n",
       "      <td>1</td>\n",
       "      <td>2</td>\n",
       "      <td>140</td>\n",
       "      <td>106</td>\n",
       "      <td>87</td>\n",
       "      <td>0</td>\n",
       "      <td>0</td>\n",
       "      <td>39</td>\n",
       "      <td>222</td>\n",
       "      <td>1</td>\n",
       "      <td>2</td>\n",
       "    </tr>\n",
       "  </tbody>\n",
       "</table>\n",
       "</div>"
      ],
      "text/plain": [
       "   age  gender  nhiss  severity_level  mrs  systolic  distolic  glucose  \\\n",
       "0   75       1      4               1    1       140        89      190   \n",
       "1   68       1      1               1    1       133       116      174   \n",
       "2   88       0      1               1    1       124       118       79   \n",
       "3   58       0      4               1    0       126       105      198   \n",
       "4   50       1      3               1    2       140       106       87   \n",
       "\n",
       "   paralysis  smoking  bmi  cholestrol  tos  risk  \n",
       "0          1        1   25         205    1     1  \n",
       "1          1        0   35         206    1     1  \n",
       "2          2        0   35         239    1     1  \n",
       "3          0        0   25         222    1     1  \n",
       "4          0        0   39         222    1     2  "
      ]
     },
     "execution_count": 26,
     "metadata": {},
     "output_type": "execute_result"
    }
   ],
   "source": [
    "dataset.head()"
   ]
  },
  {
   "cell_type": "code",
   "execution_count": 27,
   "id": "82ed592b",
   "metadata": {},
   "outputs": [],
   "source": [
    "# Dependent & Independent Feature:\n",
    "X = dataset.iloc[:, :10]\n",
    "y = dataset.iloc[:, -1]"
   ]
  },
  {
   "cell_type": "code",
   "execution_count": 28,
   "id": "512f6d3b",
   "metadata": {},
   "outputs": [
    {
     "data": {
      "text/html": [
       "<div>\n",
       "<style scoped>\n",
       "    .dataframe tbody tr th:only-of-type {\n",
       "        vertical-align: middle;\n",
       "    }\n",
       "\n",
       "    .dataframe tbody tr th {\n",
       "        vertical-align: top;\n",
       "    }\n",
       "\n",
       "    .dataframe thead th {\n",
       "        text-align: right;\n",
       "    }\n",
       "</style>\n",
       "<table border=\"1\" class=\"dataframe\">\n",
       "  <thead>\n",
       "    <tr style=\"text-align: right;\">\n",
       "      <th></th>\n",
       "      <th>age</th>\n",
       "      <th>gender</th>\n",
       "      <th>nhiss</th>\n",
       "      <th>severity_level</th>\n",
       "      <th>mrs</th>\n",
       "      <th>systolic</th>\n",
       "      <th>distolic</th>\n",
       "      <th>glucose</th>\n",
       "      <th>paralysis</th>\n",
       "      <th>smoking</th>\n",
       "    </tr>\n",
       "  </thead>\n",
       "  <tbody>\n",
       "    <tr>\n",
       "      <th>0</th>\n",
       "      <td>75</td>\n",
       "      <td>1</td>\n",
       "      <td>4</td>\n",
       "      <td>1</td>\n",
       "      <td>1</td>\n",
       "      <td>140</td>\n",
       "      <td>89</td>\n",
       "      <td>190</td>\n",
       "      <td>1</td>\n",
       "      <td>1</td>\n",
       "    </tr>\n",
       "    <tr>\n",
       "      <th>1</th>\n",
       "      <td>68</td>\n",
       "      <td>1</td>\n",
       "      <td>1</td>\n",
       "      <td>1</td>\n",
       "      <td>1</td>\n",
       "      <td>133</td>\n",
       "      <td>116</td>\n",
       "      <td>174</td>\n",
       "      <td>1</td>\n",
       "      <td>0</td>\n",
       "    </tr>\n",
       "    <tr>\n",
       "      <th>2</th>\n",
       "      <td>88</td>\n",
       "      <td>0</td>\n",
       "      <td>1</td>\n",
       "      <td>1</td>\n",
       "      <td>1</td>\n",
       "      <td>124</td>\n",
       "      <td>118</td>\n",
       "      <td>79</td>\n",
       "      <td>2</td>\n",
       "      <td>0</td>\n",
       "    </tr>\n",
       "    <tr>\n",
       "      <th>3</th>\n",
       "      <td>58</td>\n",
       "      <td>0</td>\n",
       "      <td>4</td>\n",
       "      <td>1</td>\n",
       "      <td>0</td>\n",
       "      <td>126</td>\n",
       "      <td>105</td>\n",
       "      <td>198</td>\n",
       "      <td>0</td>\n",
       "      <td>0</td>\n",
       "    </tr>\n",
       "    <tr>\n",
       "      <th>4</th>\n",
       "      <td>50</td>\n",
       "      <td>1</td>\n",
       "      <td>3</td>\n",
       "      <td>1</td>\n",
       "      <td>2</td>\n",
       "      <td>140</td>\n",
       "      <td>106</td>\n",
       "      <td>87</td>\n",
       "      <td>0</td>\n",
       "      <td>0</td>\n",
       "    </tr>\n",
       "  </tbody>\n",
       "</table>\n",
       "</div>"
      ],
      "text/plain": [
       "   age  gender  nhiss  severity_level  mrs  systolic  distolic  glucose  \\\n",
       "0   75       1      4               1    1       140        89      190   \n",
       "1   68       1      1               1    1       133       116      174   \n",
       "2   88       0      1               1    1       124       118       79   \n",
       "3   58       0      4               1    0       126       105      198   \n",
       "4   50       1      3               1    2       140       106       87   \n",
       "\n",
       "   paralysis  smoking  \n",
       "0          1        1  \n",
       "1          1        0  \n",
       "2          2        0  \n",
       "3          0        0  \n",
       "4          0        0  "
      ]
     },
     "execution_count": 28,
     "metadata": {},
     "output_type": "execute_result"
    }
   ],
   "source": [
    "X.head()"
   ]
  },
  {
   "cell_type": "code",
   "execution_count": 29,
   "id": "1a5d8613",
   "metadata": {},
   "outputs": [],
   "source": [
    "X = pd.get_dummies(X, drop_first=True) "
   ]
  },
  {
   "cell_type": "code",
   "execution_count": 30,
   "id": "6fe3af13",
   "metadata": {},
   "outputs": [
    {
     "data": {
      "text/html": [
       "<div>\n",
       "<style scoped>\n",
       "    .dataframe tbody tr th:only-of-type {\n",
       "        vertical-align: middle;\n",
       "    }\n",
       "\n",
       "    .dataframe tbody tr th {\n",
       "        vertical-align: top;\n",
       "    }\n",
       "\n",
       "    .dataframe thead th {\n",
       "        text-align: right;\n",
       "    }\n",
       "</style>\n",
       "<table border=\"1\" class=\"dataframe\">\n",
       "  <thead>\n",
       "    <tr style=\"text-align: right;\">\n",
       "      <th></th>\n",
       "      <th>age</th>\n",
       "      <th>gender</th>\n",
       "      <th>nhiss</th>\n",
       "      <th>severity_level</th>\n",
       "      <th>mrs</th>\n",
       "      <th>systolic</th>\n",
       "      <th>distolic</th>\n",
       "      <th>glucose</th>\n",
       "      <th>paralysis</th>\n",
       "      <th>smoking</th>\n",
       "    </tr>\n",
       "  </thead>\n",
       "  <tbody>\n",
       "    <tr>\n",
       "      <th>0</th>\n",
       "      <td>75</td>\n",
       "      <td>1</td>\n",
       "      <td>4</td>\n",
       "      <td>1</td>\n",
       "      <td>1</td>\n",
       "      <td>140</td>\n",
       "      <td>89</td>\n",
       "      <td>190</td>\n",
       "      <td>1</td>\n",
       "      <td>1</td>\n",
       "    </tr>\n",
       "    <tr>\n",
       "      <th>1</th>\n",
       "      <td>68</td>\n",
       "      <td>1</td>\n",
       "      <td>1</td>\n",
       "      <td>1</td>\n",
       "      <td>1</td>\n",
       "      <td>133</td>\n",
       "      <td>116</td>\n",
       "      <td>174</td>\n",
       "      <td>1</td>\n",
       "      <td>0</td>\n",
       "    </tr>\n",
       "    <tr>\n",
       "      <th>2</th>\n",
       "      <td>88</td>\n",
       "      <td>0</td>\n",
       "      <td>1</td>\n",
       "      <td>1</td>\n",
       "      <td>1</td>\n",
       "      <td>124</td>\n",
       "      <td>118</td>\n",
       "      <td>79</td>\n",
       "      <td>2</td>\n",
       "      <td>0</td>\n",
       "    </tr>\n",
       "    <tr>\n",
       "      <th>3</th>\n",
       "      <td>58</td>\n",
       "      <td>0</td>\n",
       "      <td>4</td>\n",
       "      <td>1</td>\n",
       "      <td>0</td>\n",
       "      <td>126</td>\n",
       "      <td>105</td>\n",
       "      <td>198</td>\n",
       "      <td>0</td>\n",
       "      <td>0</td>\n",
       "    </tr>\n",
       "    <tr>\n",
       "      <th>4</th>\n",
       "      <td>50</td>\n",
       "      <td>1</td>\n",
       "      <td>3</td>\n",
       "      <td>1</td>\n",
       "      <td>2</td>\n",
       "      <td>140</td>\n",
       "      <td>106</td>\n",
       "      <td>87</td>\n",
       "      <td>0</td>\n",
       "      <td>0</td>\n",
       "    </tr>\n",
       "  </tbody>\n",
       "</table>\n",
       "</div>"
      ],
      "text/plain": [
       "   age  gender  nhiss  severity_level  mrs  systolic  distolic  glucose  \\\n",
       "0   75       1      4               1    1       140        89      190   \n",
       "1   68       1      1               1    1       133       116      174   \n",
       "2   88       0      1               1    1       124       118       79   \n",
       "3   58       0      4               1    0       126       105      198   \n",
       "4   50       1      3               1    2       140       106       87   \n",
       "\n",
       "   paralysis  smoking  \n",
       "0          1        1  \n",
       "1          1        0  \n",
       "2          2        0  \n",
       "3          0        0  \n",
       "4          0        0  "
      ]
     },
     "execution_count": 30,
     "metadata": {},
     "output_type": "execute_result"
    }
   ],
   "source": [
    "X.head()"
   ]
  },
  {
   "cell_type": "code",
   "execution_count": 31,
   "id": "e4d31362",
   "metadata": {},
   "outputs": [
    {
     "data": {
      "text/plain": [
       "Index(['age', 'gender', 'nhiss', 'severity_level', 'mrs', 'systolic',\n",
       "       'distolic', 'glucose', 'paralysis', 'smoking'],\n",
       "      dtype='object')"
      ]
     },
     "execution_count": 31,
     "metadata": {},
     "output_type": "execute_result"
    }
   ],
   "source": [
    "X.columns"
   ]
  },
  {
   "cell_type": "code",
   "execution_count": 33,
   "id": "591e4de8",
   "metadata": {},
   "outputs": [],
   "source": [
    "X = X[['age', 'gender', 'nhiss', 'severity_level', 'mrs', 'systolic',\n",
    "       'distolic', 'glucose', 'paralysis', 'smoking']]"
   ]
  },
  {
   "cell_type": "code",
   "execution_count": 34,
   "id": "9fc218f2",
   "metadata": {},
   "outputs": [
    {
     "data": {
      "text/html": [
       "<div>\n",
       "<style scoped>\n",
       "    .dataframe tbody tr th:only-of-type {\n",
       "        vertical-align: middle;\n",
       "    }\n",
       "\n",
       "    .dataframe tbody tr th {\n",
       "        vertical-align: top;\n",
       "    }\n",
       "\n",
       "    .dataframe thead th {\n",
       "        text-align: right;\n",
       "    }\n",
       "</style>\n",
       "<table border=\"1\" class=\"dataframe\">\n",
       "  <thead>\n",
       "    <tr style=\"text-align: right;\">\n",
       "      <th></th>\n",
       "      <th>age</th>\n",
       "      <th>gender</th>\n",
       "      <th>nhiss</th>\n",
       "      <th>severity_level</th>\n",
       "      <th>mrs</th>\n",
       "      <th>systolic</th>\n",
       "      <th>distolic</th>\n",
       "      <th>glucose</th>\n",
       "      <th>paralysis</th>\n",
       "      <th>smoking</th>\n",
       "    </tr>\n",
       "  </thead>\n",
       "  <tbody>\n",
       "    <tr>\n",
       "      <th>0</th>\n",
       "      <td>75</td>\n",
       "      <td>1</td>\n",
       "      <td>4</td>\n",
       "      <td>1</td>\n",
       "      <td>1</td>\n",
       "      <td>140</td>\n",
       "      <td>89</td>\n",
       "      <td>190</td>\n",
       "      <td>1</td>\n",
       "      <td>1</td>\n",
       "    </tr>\n",
       "    <tr>\n",
       "      <th>1</th>\n",
       "      <td>68</td>\n",
       "      <td>1</td>\n",
       "      <td>1</td>\n",
       "      <td>1</td>\n",
       "      <td>1</td>\n",
       "      <td>133</td>\n",
       "      <td>116</td>\n",
       "      <td>174</td>\n",
       "      <td>1</td>\n",
       "      <td>0</td>\n",
       "    </tr>\n",
       "    <tr>\n",
       "      <th>2</th>\n",
       "      <td>88</td>\n",
       "      <td>0</td>\n",
       "      <td>1</td>\n",
       "      <td>1</td>\n",
       "      <td>1</td>\n",
       "      <td>124</td>\n",
       "      <td>118</td>\n",
       "      <td>79</td>\n",
       "      <td>2</td>\n",
       "      <td>0</td>\n",
       "    </tr>\n",
       "    <tr>\n",
       "      <th>3</th>\n",
       "      <td>58</td>\n",
       "      <td>0</td>\n",
       "      <td>4</td>\n",
       "      <td>1</td>\n",
       "      <td>0</td>\n",
       "      <td>126</td>\n",
       "      <td>105</td>\n",
       "      <td>198</td>\n",
       "      <td>0</td>\n",
       "      <td>0</td>\n",
       "    </tr>\n",
       "    <tr>\n",
       "      <th>4</th>\n",
       "      <td>50</td>\n",
       "      <td>1</td>\n",
       "      <td>3</td>\n",
       "      <td>1</td>\n",
       "      <td>2</td>\n",
       "      <td>140</td>\n",
       "      <td>106</td>\n",
       "      <td>87</td>\n",
       "      <td>0</td>\n",
       "      <td>0</td>\n",
       "    </tr>\n",
       "  </tbody>\n",
       "</table>\n",
       "</div>"
      ],
      "text/plain": [
       "   age  gender  nhiss  severity_level  mrs  systolic  distolic  glucose  \\\n",
       "0   75       1      4               1    1       140        89      190   \n",
       "1   68       1      1               1    1       133       116      174   \n",
       "2   88       0      1               1    1       124       118       79   \n",
       "3   58       0      4               1    0       126       105      198   \n",
       "4   50       1      3               1    2       140       106       87   \n",
       "\n",
       "   paralysis  smoking  \n",
       "0          1        1  \n",
       "1          1        0  \n",
       "2          2        0  \n",
       "3          0        0  \n",
       "4          0        0  "
      ]
     },
     "execution_count": 34,
     "metadata": {},
     "output_type": "execute_result"
    }
   ],
   "source": [
    "X.head()"
   ]
  },
  {
   "cell_type": "code",
   "execution_count": 35,
   "id": "d0e9e439",
   "metadata": {},
   "outputs": [],
   "source": [
    "# Train-Test Split:\n",
    "from sklearn.model_selection import train_test_split\n",
    "X_train, X_test, y_train, y_test = train_test_split(X,y, test_size=0.2, random_state=0)"
   ]
  },
  {
   "cell_type": "code",
   "execution_count": 36,
   "id": "2653c37e",
   "metadata": {},
   "outputs": [
    {
     "name": "stdout",
     "output_type": "stream",
     "text": [
      "(3640, 10)\n",
      "(910, 10)\n"
     ]
    }
   ],
   "source": [
    "print(X_train.shape)\n",
    "print(X_test.shape)"
   ]
  },
  {
   "cell_type": "code",
   "execution_count": 37,
   "id": "9d44728a",
   "metadata": {},
   "outputs": [],
   "source": [
    "# Importing Performance Metrics:\n",
    "from sklearn.metrics import accuracy_score, confusion_matrix, classification_report"
   ]
  },
  {
   "cell_type": "code",
   "execution_count": 38,
   "id": "e5f9d288",
   "metadata": {},
   "outputs": [
    {
     "name": "stdout",
     "output_type": "stream",
     "text": [
      "Accuracy: 0.9131868131868132\n",
      "[[ 84  26   0]\n",
      " [ 21 722  10]\n",
      " [  0  22  25]]\n",
      "              precision    recall  f1-score   support\n",
      "\n",
      "           1       0.80      0.76      0.78       110\n",
      "           2       0.94      0.96      0.95       753\n",
      "           3       0.71      0.53      0.61        47\n",
      "\n",
      "    accuracy                           0.91       910\n",
      "   macro avg       0.82      0.75      0.78       910\n",
      "weighted avg       0.91      0.91      0.91       910\n",
      "\n"
     ]
    }
   ],
   "source": [
    "# RandomForestClassifier:\n",
    "from sklearn.ensemble import RandomForestClassifier\n",
    "RandomForest = RandomForestClassifier()\n",
    "RandomForest = RandomForest.fit(X_train,y_train)\n",
    "\n",
    "# Predictions:\n",
    "y_pred = RandomForest.predict(X_test)\n",
    "\n",
    "# Performance:\n",
    "print('Accuracy:', accuracy_score(y_test,y_pred))\n",
    "print(confusion_matrix(y_test,y_pred))\n",
    "print(classification_report(y_test,y_pred))"
   ]
  },
  {
   "cell_type": "markdown",
   "id": "67a75630",
   "metadata": {},
   "source": [
    "# An AdaBoost classifier.\n",
    "\n",
    "An AdaBoost [1] classifier is a meta-estimator that begins by fitting a classifier on the original dataset and then fits additional copies of the classifier on the same dataset but where the weights of incorrectly classified instances are adjusted such that subsequent classifiers focus more on difficult cases."
   ]
  },
  {
   "cell_type": "code",
   "execution_count": 39,
   "id": "6f57b7f0",
   "metadata": {},
   "outputs": [
    {
     "name": "stdout",
     "output_type": "stream",
     "text": [
      "Accuracy: 0.7362637362637363\n",
      "[[ 99  11   0]\n",
      " [118 529 106]\n",
      " [  0   5  42]]\n",
      "              precision    recall  f1-score   support\n",
      "\n",
      "           1       0.46      0.90      0.61       110\n",
      "           2       0.97      0.70      0.82       753\n",
      "           3       0.28      0.89      0.43        47\n",
      "\n",
      "    accuracy                           0.74       910\n",
      "   macro avg       0.57      0.83      0.62       910\n",
      "weighted avg       0.87      0.74      0.77       910\n",
      "\n"
     ]
    }
   ],
   "source": [
    "# AdaBoostClassifier:\n",
    "from sklearn.ensemble import AdaBoostClassifier\n",
    "AdaBoost = AdaBoostClassifier()\n",
    "AdaBoost = AdaBoost.fit(X_train,y_train)\n",
    "\n",
    "# Predictions:\n",
    "y_pred = AdaBoost.predict(X_test)\n",
    "\n",
    "# Performance:\n",
    "print('Accuracy:', accuracy_score(y_test,y_pred))\n",
    "print(confusion_matrix(y_test,y_pred))\n",
    "print(classification_report(y_test,y_pred))"
   ]
  },
  {
   "cell_type": "markdown",
   "id": "4b7502fa",
   "metadata": {},
   "source": [
    "# Gradient Boosting for classification.\n",
    "\n",
    "This algorithm builds an additive model in a forward stage-wise fashion; it allows for the optimization of arbitrary differentiable loss functions. In each stage n_classes_ regression trees are fit on the negative gradient of the loss function, e.g. binary or multiclass log loss. Binary classification is a special case where only a single regression tree is induced."
   ]
  },
  {
   "cell_type": "code",
   "execution_count": 40,
   "id": "b277d57d",
   "metadata": {},
   "outputs": [
    {
     "name": "stdout",
     "output_type": "stream",
     "text": [
      "Accuracy: 0.9153846153846154\n",
      "[[ 85  25   0]\n",
      " [ 20 722  11]\n",
      " [  0  21  26]]\n",
      "              precision    recall  f1-score   support\n",
      "\n",
      "           1       0.81      0.77      0.79       110\n",
      "           2       0.94      0.96      0.95       753\n",
      "           3       0.70      0.55      0.62        47\n",
      "\n",
      "    accuracy                           0.92       910\n",
      "   macro avg       0.82      0.76      0.79       910\n",
      "weighted avg       0.91      0.92      0.91       910\n",
      "\n"
     ]
    }
   ],
   "source": [
    "# GradientBoostingClassifier:\n",
    "from sklearn.ensemble import GradientBoostingClassifier\n",
    "GradientBoost = GradientBoostingClassifier()\n",
    "GradientBoost = GradientBoost.fit(X_train,y_train)\n",
    "\n",
    "# Predictions:\n",
    "y_pred = GradientBoost.predict(X_test)\n",
    "\n",
    "# Performance:\n",
    "print('Accuracy:', accuracy_score(y_test,y_pred))\n",
    "print(confusion_matrix(y_test,y_pred))\n",
    "print(classification_report(y_test,y_pred))"
   ]
  },
  {
   "cell_type": "code",
   "execution_count": null,
   "id": "e3a11841",
   "metadata": {},
   "outputs": [],
   "source": []
  },
  {
   "cell_type": "code",
   "execution_count": null,
   "id": "e97325b3",
   "metadata": {},
   "outputs": [],
   "source": []
  },
  {
   "cell_type": "code",
   "execution_count": null,
   "id": "c7ecde15",
   "metadata": {},
   "outputs": [],
   "source": []
  }
 ],
 "metadata": {
  "kernelspec": {
   "display_name": "Python 3 (ipykernel)",
   "language": "python",
   "name": "python3"
  },
  "language_info": {
   "codemirror_mode": {
    "name": "ipython",
    "version": 3
   },
   "file_extension": ".py",
   "mimetype": "text/x-python",
   "name": "python",
   "nbconvert_exporter": "python",
   "pygments_lexer": "ipython3",
   "version": "3.9.12"
  }
 },
 "nbformat": 4,
 "nbformat_minor": 5
}
