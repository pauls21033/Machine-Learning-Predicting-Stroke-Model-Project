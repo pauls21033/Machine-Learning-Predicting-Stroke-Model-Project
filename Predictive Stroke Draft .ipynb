{
 "cells": [
  {
   "cell_type": "code",
   "execution_count": 85,
   "id": "8a7902f3",
   "metadata": {},
   "outputs": [],
   "source": [
    "# Importing Libraries:\n",
    "import pandas as pd\n",
    "import numpy as np\n",
    "import tensorflow as tf\n",
    "import seaborn as sns\n",
    "import matplotlib.pyplot as plt"
   ]
  },
  {
   "cell_type": "code",
   "execution_count": 86,
   "id": "7d834b9d",
   "metadata": {},
   "outputs": [],
   "source": [
    "# for displaying all feature from dataset:\n",
    "pd.pandas.set_option('display.max_columns', None)"
   ]
  },
  {
   "cell_type": "code",
   "execution_count": 87,
   "id": "4bd4a955",
   "metadata": {},
   "outputs": [
    {
     "data": {
      "text/html": [
       "<div>\n",
       "<style scoped>\n",
       "    .dataframe tbody tr th:only-of-type {\n",
       "        vertical-align: middle;\n",
       "    }\n",
       "\n",
       "    .dataframe tbody tr th {\n",
       "        vertical-align: top;\n",
       "    }\n",
       "\n",
       "    .dataframe thead th {\n",
       "        text-align: right;\n",
       "    }\n",
       "</style>\n",
       "<table border=\"1\" class=\"dataframe\">\n",
       "  <thead>\n",
       "    <tr style=\"text-align: right;\">\n",
       "      <th></th>\n",
       "      <th>age</th>\n",
       "      <th>gender</th>\n",
       "      <th>nhiss</th>\n",
       "      <th>severity_level</th>\n",
       "      <th>mrs</th>\n",
       "      <th>systolic</th>\n",
       "      <th>distolic</th>\n",
       "      <th>glucose</th>\n",
       "      <th>paralysis</th>\n",
       "      <th>smoking</th>\n",
       "      <th>bmi</th>\n",
       "      <th>cholestrol</th>\n",
       "      <th>tos</th>\n",
       "      <th>risk</th>\n",
       "    </tr>\n",
       "  </thead>\n",
       "  <tbody>\n",
       "    <tr>\n",
       "      <th>0</th>\n",
       "      <td>75</td>\n",
       "      <td>1</td>\n",
       "      <td>4</td>\n",
       "      <td>1</td>\n",
       "      <td>1</td>\n",
       "      <td>140</td>\n",
       "      <td>89</td>\n",
       "      <td>190</td>\n",
       "      <td>1</td>\n",
       "      <td>1</td>\n",
       "      <td>25</td>\n",
       "      <td>205</td>\n",
       "      <td>1</td>\n",
       "      <td>1</td>\n",
       "    </tr>\n",
       "    <tr>\n",
       "      <th>1</th>\n",
       "      <td>68</td>\n",
       "      <td>1</td>\n",
       "      <td>1</td>\n",
       "      <td>1</td>\n",
       "      <td>1</td>\n",
       "      <td>133</td>\n",
       "      <td>116</td>\n",
       "      <td>174</td>\n",
       "      <td>1</td>\n",
       "      <td>0</td>\n",
       "      <td>35</td>\n",
       "      <td>206</td>\n",
       "      <td>1</td>\n",
       "      <td>1</td>\n",
       "    </tr>\n",
       "    <tr>\n",
       "      <th>2</th>\n",
       "      <td>88</td>\n",
       "      <td>0</td>\n",
       "      <td>1</td>\n",
       "      <td>1</td>\n",
       "      <td>1</td>\n",
       "      <td>124</td>\n",
       "      <td>118</td>\n",
       "      <td>79</td>\n",
       "      <td>2</td>\n",
       "      <td>0</td>\n",
       "      <td>35</td>\n",
       "      <td>239</td>\n",
       "      <td>1</td>\n",
       "      <td>1</td>\n",
       "    </tr>\n",
       "    <tr>\n",
       "      <th>3</th>\n",
       "      <td>58</td>\n",
       "      <td>0</td>\n",
       "      <td>4</td>\n",
       "      <td>1</td>\n",
       "      <td>0</td>\n",
       "      <td>126</td>\n",
       "      <td>105</td>\n",
       "      <td>198</td>\n",
       "      <td>0</td>\n",
       "      <td>0</td>\n",
       "      <td>25</td>\n",
       "      <td>222</td>\n",
       "      <td>1</td>\n",
       "      <td>1</td>\n",
       "    </tr>\n",
       "    <tr>\n",
       "      <th>4</th>\n",
       "      <td>50</td>\n",
       "      <td>1</td>\n",
       "      <td>3</td>\n",
       "      <td>1</td>\n",
       "      <td>2</td>\n",
       "      <td>140</td>\n",
       "      <td>106</td>\n",
       "      <td>87</td>\n",
       "      <td>0</td>\n",
       "      <td>0</td>\n",
       "      <td>39</td>\n",
       "      <td>222</td>\n",
       "      <td>1</td>\n",
       "      <td>2</td>\n",
       "    </tr>\n",
       "  </tbody>\n",
       "</table>\n",
       "</div>"
      ],
      "text/plain": [
       "   age  gender  nhiss  severity_level  mrs  systolic  distolic  glucose  \\\n",
       "0   75       1      4               1    1       140        89      190   \n",
       "1   68       1      1               1    1       133       116      174   \n",
       "2   88       0      1               1    1       124       118       79   \n",
       "3   58       0      4               1    0       126       105      198   \n",
       "4   50       1      3               1    2       140       106       87   \n",
       "\n",
       "   paralysis  smoking  bmi  cholestrol  tos  risk  \n",
       "0          1        1   25         205    1     1  \n",
       "1          1        0   35         206    1     1  \n",
       "2          2        0   35         239    1     1  \n",
       "3          0        0   25         222    1     1  \n",
       "4          0        0   39         222    1     2  "
      ]
     },
     "execution_count": 87,
     "metadata": {},
     "output_type": "execute_result"
    }
   ],
   "source": [
    "# Reading Dataset:\n",
    "dataset = pd.read_csv(\"Resources/Prepped_Stroke_Data.csv\")\n",
    "# Top 5 records:\n",
    "dataset.head()"
   ]
  },
  {
   "cell_type": "code",
   "execution_count": 88,
   "id": "5beb7609",
   "metadata": {},
   "outputs": [],
   "source": [
    "# Dropping unneccsary feature :\n",
    "dataset = dataset.drop('risk', axis=1)"
   ]
  },
  {
   "cell_type": "code",
   "execution_count": 89,
   "id": "a0ce944a",
   "metadata": {},
   "outputs": [
    {
     "data": {
      "text/plain": [
       "(4550, 13)"
      ]
     },
     "execution_count": 89,
     "metadata": {},
     "output_type": "execute_result"
    }
   ],
   "source": [
    "# Shape of dataset:\n",
    "dataset.shape"
   ]
  },
  {
   "cell_type": "code",
   "execution_count": 90,
   "id": "55acd909",
   "metadata": {},
   "outputs": [
    {
     "data": {
      "text/plain": [
       "age               0\n",
       "gender            0\n",
       "nhiss             0\n",
       "severity_level    0\n",
       "mrs               0\n",
       "systolic          0\n",
       "distolic          0\n",
       "glucose           0\n",
       "paralysis         0\n",
       "smoking           0\n",
       "bmi               0\n",
       "cholestrol        0\n",
       "tos               0\n",
       "dtype: int64"
      ]
     },
     "execution_count": 90,
     "metadata": {},
     "output_type": "execute_result"
    }
   ],
   "source": [
    "dataset.isnull().sum()"
   ]
  },
  {
   "cell_type": "code",
   "execution_count": 91,
   "id": "6a8d4689",
   "metadata": {},
   "outputs": [
    {
     "data": {
      "text/html": [
       "<div>\n",
       "<style scoped>\n",
       "    .dataframe tbody tr th:only-of-type {\n",
       "        vertical-align: middle;\n",
       "    }\n",
       "\n",
       "    .dataframe tbody tr th {\n",
       "        vertical-align: top;\n",
       "    }\n",
       "\n",
       "    .dataframe thead th {\n",
       "        text-align: right;\n",
       "    }\n",
       "</style>\n",
       "<table border=\"1\" class=\"dataframe\">\n",
       "  <thead>\n",
       "    <tr style=\"text-align: right;\">\n",
       "      <th></th>\n",
       "      <th>age</th>\n",
       "      <th>gender</th>\n",
       "      <th>nhiss</th>\n",
       "      <th>severity_level</th>\n",
       "      <th>mrs</th>\n",
       "      <th>systolic</th>\n",
       "      <th>distolic</th>\n",
       "      <th>glucose</th>\n",
       "      <th>paralysis</th>\n",
       "      <th>smoking</th>\n",
       "      <th>bmi</th>\n",
       "      <th>cholestrol</th>\n",
       "      <th>tos</th>\n",
       "    </tr>\n",
       "  </thead>\n",
       "  <tbody>\n",
       "    <tr>\n",
       "      <th>count</th>\n",
       "      <td>4550.000000</td>\n",
       "      <td>4550.000000</td>\n",
       "      <td>4550.000000</td>\n",
       "      <td>4550.000000</td>\n",
       "      <td>4550.000000</td>\n",
       "      <td>4550.000000</td>\n",
       "      <td>4550.000000</td>\n",
       "      <td>4550.000000</td>\n",
       "      <td>4550.000000</td>\n",
       "      <td>4550.000000</td>\n",
       "      <td>4550.000000</td>\n",
       "      <td>4550.000000</td>\n",
       "      <td>4550.000000</td>\n",
       "    </tr>\n",
       "    <tr>\n",
       "      <th>mean</th>\n",
       "      <td>46.844615</td>\n",
       "      <td>0.351209</td>\n",
       "      <td>18.643736</td>\n",
       "      <td>2.829890</td>\n",
       "      <td>3.855165</td>\n",
       "      <td>153.969451</td>\n",
       "      <td>104.305275</td>\n",
       "      <td>230.763077</td>\n",
       "      <td>1.392747</td>\n",
       "      <td>0.908791</td>\n",
       "      <td>34.194725</td>\n",
       "      <td>217.811868</td>\n",
       "      <td>2.117363</td>\n",
       "    </tr>\n",
       "    <tr>\n",
       "      <th>std</th>\n",
       "      <td>23.582333</td>\n",
       "      <td>0.477401</td>\n",
       "      <td>10.584101</td>\n",
       "      <td>0.937991</td>\n",
       "      <td>1.626443</td>\n",
       "      <td>24.697220</td>\n",
       "      <td>18.144888</td>\n",
       "      <td>50.459063</td>\n",
       "      <td>1.091058</td>\n",
       "      <td>0.900056</td>\n",
       "      <td>5.843633</td>\n",
       "      <td>20.245259</td>\n",
       "      <td>0.762574</td>\n",
       "    </tr>\n",
       "    <tr>\n",
       "      <th>min</th>\n",
       "      <td>1.000000</td>\n",
       "      <td>0.000000</td>\n",
       "      <td>1.000000</td>\n",
       "      <td>1.000000</td>\n",
       "      <td>0.000000</td>\n",
       "      <td>100.000000</td>\n",
       "      <td>59.000000</td>\n",
       "      <td>70.000000</td>\n",
       "      <td>0.000000</td>\n",
       "      <td>0.000000</td>\n",
       "      <td>18.000000</td>\n",
       "      <td>160.000000</td>\n",
       "      <td>1.000000</td>\n",
       "    </tr>\n",
       "    <tr>\n",
       "      <th>25%</th>\n",
       "      <td>28.000000</td>\n",
       "      <td>0.000000</td>\n",
       "      <td>12.000000</td>\n",
       "      <td>2.000000</td>\n",
       "      <td>3.000000</td>\n",
       "      <td>135.000000</td>\n",
       "      <td>92.000000</td>\n",
       "      <td>215.000000</td>\n",
       "      <td>0.000000</td>\n",
       "      <td>0.000000</td>\n",
       "      <td>29.250000</td>\n",
       "      <td>206.000000</td>\n",
       "      <td>2.000000</td>\n",
       "    </tr>\n",
       "    <tr>\n",
       "      <th>50%</th>\n",
       "      <td>49.000000</td>\n",
       "      <td>0.000000</td>\n",
       "      <td>18.000000</td>\n",
       "      <td>3.000000</td>\n",
       "      <td>4.000000</td>\n",
       "      <td>155.000000</td>\n",
       "      <td>105.000000</td>\n",
       "      <td>241.000000</td>\n",
       "      <td>1.000000</td>\n",
       "      <td>1.000000</td>\n",
       "      <td>34.000000</td>\n",
       "      <td>219.000000</td>\n",
       "      <td>2.000000</td>\n",
       "    </tr>\n",
       "    <tr>\n",
       "      <th>75%</th>\n",
       "      <td>66.000000</td>\n",
       "      <td>1.000000</td>\n",
       "      <td>25.000000</td>\n",
       "      <td>4.000000</td>\n",
       "      <td>5.000000</td>\n",
       "      <td>175.000000</td>\n",
       "      <td>119.000000</td>\n",
       "      <td>269.000000</td>\n",
       "      <td>2.000000</td>\n",
       "      <td>2.000000</td>\n",
       "      <td>39.000000</td>\n",
       "      <td>234.000000</td>\n",
       "      <td>3.000000</td>\n",
       "    </tr>\n",
       "    <tr>\n",
       "      <th>max</th>\n",
       "      <td>90.000000</td>\n",
       "      <td>1.000000</td>\n",
       "      <td>42.000000</td>\n",
       "      <td>4.000000</td>\n",
       "      <td>6.000000</td>\n",
       "      <td>195.000000</td>\n",
       "      <td>135.000000</td>\n",
       "      <td>295.000000</td>\n",
       "      <td>3.000000</td>\n",
       "      <td>3.000000</td>\n",
       "      <td>45.000000</td>\n",
       "      <td>253.000000</td>\n",
       "      <td>3.000000</td>\n",
       "    </tr>\n",
       "  </tbody>\n",
       "</table>\n",
       "</div>"
      ],
      "text/plain": [
       "               age       gender        nhiss  severity_level          mrs  \\\n",
       "count  4550.000000  4550.000000  4550.000000     4550.000000  4550.000000   \n",
       "mean     46.844615     0.351209    18.643736        2.829890     3.855165   \n",
       "std      23.582333     0.477401    10.584101        0.937991     1.626443   \n",
       "min       1.000000     0.000000     1.000000        1.000000     0.000000   \n",
       "25%      28.000000     0.000000    12.000000        2.000000     3.000000   \n",
       "50%      49.000000     0.000000    18.000000        3.000000     4.000000   \n",
       "75%      66.000000     1.000000    25.000000        4.000000     5.000000   \n",
       "max      90.000000     1.000000    42.000000        4.000000     6.000000   \n",
       "\n",
       "          systolic     distolic      glucose    paralysis      smoking  \\\n",
       "count  4550.000000  4550.000000  4550.000000  4550.000000  4550.000000   \n",
       "mean    153.969451   104.305275   230.763077     1.392747     0.908791   \n",
       "std      24.697220    18.144888    50.459063     1.091058     0.900056   \n",
       "min     100.000000    59.000000    70.000000     0.000000     0.000000   \n",
       "25%     135.000000    92.000000   215.000000     0.000000     0.000000   \n",
       "50%     155.000000   105.000000   241.000000     1.000000     1.000000   \n",
       "75%     175.000000   119.000000   269.000000     2.000000     2.000000   \n",
       "max     195.000000   135.000000   295.000000     3.000000     3.000000   \n",
       "\n",
       "               bmi   cholestrol          tos  \n",
       "count  4550.000000  4550.000000  4550.000000  \n",
       "mean     34.194725   217.811868     2.117363  \n",
       "std       5.843633    20.245259     0.762574  \n",
       "min      18.000000   160.000000     1.000000  \n",
       "25%      29.250000   206.000000     2.000000  \n",
       "50%      34.000000   219.000000     2.000000  \n",
       "75%      39.000000   234.000000     3.000000  \n",
       "max      45.000000   253.000000     3.000000  "
      ]
     },
     "execution_count": 91,
     "metadata": {},
     "output_type": "execute_result"
    }
   ],
   "source": [
    "# Description:\n",
    "dataset.describe()"
   ]
  },
  {
   "cell_type": "code",
   "execution_count": 92,
   "id": "495d5d43",
   "metadata": {},
   "outputs": [
    {
     "data": {
      "text/plain": [
       "age               int64\n",
       "gender            int64\n",
       "nhiss             int64\n",
       "severity_level    int64\n",
       "mrs               int64\n",
       "systolic          int64\n",
       "distolic          int64\n",
       "glucose           int64\n",
       "paralysis         int64\n",
       "smoking           int64\n",
       "bmi               int64\n",
       "cholestrol        int64\n",
       "tos               int64\n",
       "dtype: object"
      ]
     },
     "execution_count": 92,
     "metadata": {},
     "output_type": "execute_result"
    }
   ],
   "source": [
    "# Datatypes:\n",
    "dataset.dtypes"
   ]
  },
  {
   "cell_type": "code",
   "execution_count": 93,
   "id": "add4bcab",
   "metadata": {},
   "outputs": [
    {
     "data": {
      "text/html": [
       "<div>\n",
       "<style scoped>\n",
       "    .dataframe tbody tr th:only-of-type {\n",
       "        vertical-align: middle;\n",
       "    }\n",
       "\n",
       "    .dataframe tbody tr th {\n",
       "        vertical-align: top;\n",
       "    }\n",
       "\n",
       "    .dataframe thead th {\n",
       "        text-align: right;\n",
       "    }\n",
       "</style>\n",
       "<table border=\"1\" class=\"dataframe\">\n",
       "  <thead>\n",
       "    <tr style=\"text-align: right;\">\n",
       "      <th></th>\n",
       "      <th>age</th>\n",
       "      <th>gender</th>\n",
       "      <th>nhiss</th>\n",
       "      <th>severity_level</th>\n",
       "      <th>mrs</th>\n",
       "      <th>systolic</th>\n",
       "      <th>distolic</th>\n",
       "      <th>glucose</th>\n",
       "      <th>paralysis</th>\n",
       "      <th>smoking</th>\n",
       "      <th>bmi</th>\n",
       "      <th>cholestrol</th>\n",
       "      <th>tos</th>\n",
       "    </tr>\n",
       "  </thead>\n",
       "  <tbody>\n",
       "  </tbody>\n",
       "</table>\n",
       "</div>"
      ],
      "text/plain": [
       "Empty DataFrame\n",
       "Columns: [age, gender, nhiss, severity_level, mrs, systolic, distolic, glucose, paralysis, smoking, bmi, cholestrol, tos]\n",
       "Index: []"
      ]
     },
     "execution_count": 93,
     "metadata": {},
     "output_type": "execute_result"
    }
   ],
   "source": [
    "dataset[dataset['gender']=='Other']"
   ]
  },
  {
   "cell_type": "code",
   "execution_count": 94,
   "id": "0eb2650b",
   "metadata": {},
   "outputs": [
    {
     "data": {
      "text/plain": [
       "0    2952\n",
       "1    1598\n",
       "Name: gender, dtype: int64"
      ]
     },
     "execution_count": 94,
     "metadata": {},
     "output_type": "execute_result"
    }
   ],
   "source": [
    "# Gender\n",
    "dataset['gender'].value_counts()"
   ]
  },
  {
   "cell_type": "code",
   "execution_count": 95,
   "id": "fd77ab74",
   "metadata": {},
   "outputs": [
    {
     "name": "stdout",
     "output_type": "stream",
     "text": [
      "Male    :  1598\n",
      "female  :  2952\n"
     ]
    }
   ],
   "source": [
    "# Gender:\n",
    "print(\"Male    : \", dataset['gender'].value_counts()[1])\n",
    "print(\"female  : \", dataset['gender'].value_counts()[0])"
   ]
  },
  {
   "cell_type": "code",
   "execution_count": 96,
   "id": "0ea58038",
   "metadata": {},
   "outputs": [
    {
     "name": "stdout",
     "output_type": "stream",
     "text": [
      "Smokers     :  1259\n",
      "Non-smokers :  1925\n"
     ]
    }
   ],
   "source": [
    "# Smokers:\n",
    "print(\"Smokers     : \", dataset['smoking'].value_counts()[1])\n",
    "print(\"Non-smokers : \", dataset['smoking'].value_counts()[0])"
   ]
  },
  {
   "cell_type": "code",
   "execution_count": null,
   "id": "34bef4d2",
   "metadata": {
    "scrolled": true
   },
   "outputs": [],
   "source": [
    "# Good Glucose:\n",
    "counter=0\n",
    "for i in range(70,136):\n",
    "    num=dataset[\"glucose\"].value_counts()[i]\n",
    "    counter += num\n"
   ]
  },
  {
   "cell_type": "code",
   "execution_count": 98,
   "id": "86c7cc10",
   "metadata": {},
   "outputs": [
    {
     "name": "stdout",
     "output_type": "stream",
     "text": [
      "Good glucose: 9\n"
     ]
    }
   ],
   "source": [
    "print(\"Good glucose:\", counter)\n"
   ]
  },
  {
   "cell_type": "code",
   "execution_count": 99,
   "id": "25f4eca4",
   "metadata": {},
   "outputs": [],
   "source": [
    "# High Glucose \n",
    "counter=0\n",
    "for i in range(136,295):\n",
    "    num=dataset[\"glucose\"].value_counts()[i]\n",
    "    counter += num"
   ]
  },
  {
   "cell_type": "code",
   "execution_count": 100,
   "id": "5a592454",
   "metadata": {},
   "outputs": [
    {
     "name": "stdout",
     "output_type": "stream",
     "text": [
      "High glucose: 4157\n"
     ]
    }
   ],
   "source": [
    "print(\"High glucose:\", counter)"
   ]
  },
  {
   "cell_type": "code",
   "execution_count": 101,
   "id": "c293fa31",
   "metadata": {},
   "outputs": [],
   "source": [
    "# Good BMI:\n",
    "counter=0\n",
    "for i in range(70,25):\n",
    "    num=dataset[\"bmi\"].value_counts()[i]\n",
    "    counter += num"
   ]
  },
  {
   "cell_type": "code",
   "execution_count": 102,
   "id": "9ce64acb",
   "metadata": {},
   "outputs": [
    {
     "name": "stdout",
     "output_type": "stream",
     "text": [
      "Good BMI: 0\n"
     ]
    }
   ],
   "source": [
    "print(\"Good BMI:\", counter)"
   ]
  },
  {
   "cell_type": "code",
   "execution_count": 103,
   "id": "aebf813a",
   "metadata": {},
   "outputs": [],
   "source": [
    "# High BMI:\n",
    "counter=0\n",
    "for i in range(26,35):\n",
    "    num=dataset[\"bmi\"].value_counts()[i]\n",
    "    counter += num"
   ]
  },
  {
   "cell_type": "code",
   "execution_count": 104,
   "id": "93e20cde",
   "metadata": {},
   "outputs": [
    {
     "name": "stdout",
     "output_type": "stream",
     "text": [
      "High BMI: 2092\n"
     ]
    }
   ],
   "source": [
    "print(\"High BMI:\", counter)"
   ]
  },
  {
   "cell_type": "code",
   "execution_count": 105,
   "id": "46160756",
   "metadata": {},
   "outputs": [
    {
     "data": {
      "image/png": "[encoded data removed]",
      "text/plain": [
       "<Figure size 864x576 with 2 Axes>"
      ]
     },
     "metadata": {
      "needs_background": "light"
     },
     "output_type": "display_data"
    }
   ],
   "source": [
    "# Correlation using Heatmap:\n",
    "plt.figure(figsize=(12,8))\n",
    "sns.heatmap(dataset.corr(), annot=True, cmap='YlGnBu')\n",
    "plt.show()"
   ]
  },
  {
   "cell_type": "code",
   "execution_count": 106,
   "id": "29c835de",
   "metadata": {},
   "outputs": [
    {
     "data": {
      "text/html": [
       "<div>\n",
       "<style scoped>\n",
       "    .dataframe tbody tr th:only-of-type {\n",
       "        vertical-align: middle;\n",
       "    }\n",
       "\n",
       "    .dataframe tbody tr th {\n",
       "        vertical-align: top;\n",
       "    }\n",
       "\n",
       "    .dataframe thead th {\n",
       "        text-align: right;\n",
       "    }\n",
       "</style>\n",
       "<table border=\"1\" class=\"dataframe\">\n",
       "  <thead>\n",
       "    <tr style=\"text-align: right;\">\n",
       "      <th></th>\n",
       "      <th>age</th>\n",
       "      <th>gender</th>\n",
       "      <th>nhiss</th>\n",
       "      <th>severity_level</th>\n",
       "      <th>mrs</th>\n",
       "      <th>systolic</th>\n",
       "      <th>distolic</th>\n",
       "      <th>glucose</th>\n",
       "      <th>paralysis</th>\n",
       "      <th>smoking</th>\n",
       "      <th>bmi</th>\n",
       "      <th>cholestrol</th>\n",
       "      <th>tos</th>\n",
       "    </tr>\n",
       "  </thead>\n",
       "  <tbody>\n",
       "    <tr>\n",
       "      <th>0</th>\n",
       "      <td>75</td>\n",
       "      <td>1</td>\n",
       "      <td>4</td>\n",
       "      <td>1</td>\n",
       "      <td>1</td>\n",
       "      <td>140</td>\n",
       "      <td>89</td>\n",
       "      <td>190</td>\n",
       "      <td>1</td>\n",
       "      <td>1</td>\n",
       "      <td>25</td>\n",
       "      <td>205</td>\n",
       "      <td>1</td>\n",
       "    </tr>\n",
       "    <tr>\n",
       "      <th>1</th>\n",
       "      <td>68</td>\n",
       "      <td>1</td>\n",
       "      <td>1</td>\n",
       "      <td>1</td>\n",
       "      <td>1</td>\n",
       "      <td>133</td>\n",
       "      <td>116</td>\n",
       "      <td>174</td>\n",
       "      <td>1</td>\n",
       "      <td>0</td>\n",
       "      <td>35</td>\n",
       "      <td>206</td>\n",
       "      <td>1</td>\n",
       "    </tr>\n",
       "    <tr>\n",
       "      <th>2</th>\n",
       "      <td>88</td>\n",
       "      <td>0</td>\n",
       "      <td>1</td>\n",
       "      <td>1</td>\n",
       "      <td>1</td>\n",
       "      <td>124</td>\n",
       "      <td>118</td>\n",
       "      <td>79</td>\n",
       "      <td>2</td>\n",
       "      <td>0</td>\n",
       "      <td>35</td>\n",
       "      <td>239</td>\n",
       "      <td>1</td>\n",
       "    </tr>\n",
       "    <tr>\n",
       "      <th>3</th>\n",
       "      <td>58</td>\n",
       "      <td>0</td>\n",
       "      <td>4</td>\n",
       "      <td>1</td>\n",
       "      <td>0</td>\n",
       "      <td>126</td>\n",
       "      <td>105</td>\n",
       "      <td>198</td>\n",
       "      <td>0</td>\n",
       "      <td>0</td>\n",
       "      <td>25</td>\n",
       "      <td>222</td>\n",
       "      <td>1</td>\n",
       "    </tr>\n",
       "    <tr>\n",
       "      <th>4</th>\n",
       "      <td>50</td>\n",
       "      <td>1</td>\n",
       "      <td>3</td>\n",
       "      <td>1</td>\n",
       "      <td>2</td>\n",
       "      <td>140</td>\n",
       "      <td>106</td>\n",
       "      <td>87</td>\n",
       "      <td>0</td>\n",
       "      <td>0</td>\n",
       "      <td>39</td>\n",
       "      <td>222</td>\n",
       "      <td>1</td>\n",
       "    </tr>\n",
       "  </tbody>\n",
       "</table>\n",
       "</div>"
      ],
      "text/plain": [
       "   age  gender  nhiss  severity_level  mrs  systolic  distolic  glucose  \\\n",
       "0   75       1      4               1    1       140        89      190   \n",
       "1   68       1      1               1    1       133       116      174   \n",
       "2   88       0      1               1    1       124       118       79   \n",
       "3   58       0      4               1    0       126       105      198   \n",
       "4   50       1      3               1    2       140       106       87   \n",
       "\n",
       "   paralysis  smoking  bmi  cholestrol  tos  \n",
       "0          1        1   25         205    1  \n",
       "1          1        0   35         206    1  \n",
       "2          2        0   35         239    1  \n",
       "3          0        0   25         222    1  \n",
       "4          0        0   39         222    1  "
      ]
     },
     "execution_count": 106,
     "metadata": {},
     "output_type": "execute_result"
    }
   ],
   "source": [
    "dataset.head()"
   ]
  },
  {
   "cell_type": "code",
   "execution_count": 107,
   "id": "82ed592b",
   "metadata": {},
   "outputs": [],
   "source": [
    "# Dependent & Independent Feature:\n",
    "X = dataset.iloc[:, :-1]\n",
    "y = dataset.iloc[:, -1]"
   ]
  },
  {
   "cell_type": "code",
   "execution_count": 108,
   "id": "512f6d3b",
   "metadata": {},
   "outputs": [
    {
     "data": {
      "text/html": [
       "<div>\n",
       "<style scoped>\n",
       "    .dataframe tbody tr th:only-of-type {\n",
       "        vertical-align: middle;\n",
       "    }\n",
       "\n",
       "    .dataframe tbody tr th {\n",
       "        vertical-align: top;\n",
       "    }\n",
       "\n",
       "    .dataframe thead th {\n",
       "        text-align: right;\n",
       "    }\n",
       "</style>\n",
       "<table border=\"1\" class=\"dataframe\">\n",
       "  <thead>\n",
       "    <tr style=\"text-align: right;\">\n",
       "      <th></th>\n",
       "      <th>age</th>\n",
       "      <th>gender</th>\n",
       "      <th>nhiss</th>\n",
       "      <th>severity_level</th>\n",
       "      <th>mrs</th>\n",
       "      <th>systolic</th>\n",
       "      <th>distolic</th>\n",
       "      <th>glucose</th>\n",
       "      <th>paralysis</th>\n",
       "      <th>smoking</th>\n",
       "      <th>bmi</th>\n",
       "      <th>cholestrol</th>\n",
       "    </tr>\n",
       "  </thead>\n",
       "  <tbody>\n",
       "    <tr>\n",
       "      <th>0</th>\n",
       "      <td>75</td>\n",
       "      <td>1</td>\n",
       "      <td>4</td>\n",
       "      <td>1</td>\n",
       "      <td>1</td>\n",
       "      <td>140</td>\n",
       "      <td>89</td>\n",
       "      <td>190</td>\n",
       "      <td>1</td>\n",
       "      <td>1</td>\n",
       "      <td>25</td>\n",
       "      <td>205</td>\n",
       "    </tr>\n",
       "    <tr>\n",
       "      <th>1</th>\n",
       "      <td>68</td>\n",
       "      <td>1</td>\n",
       "      <td>1</td>\n",
       "      <td>1</td>\n",
       "      <td>1</td>\n",
       "      <td>133</td>\n",
       "      <td>116</td>\n",
       "      <td>174</td>\n",
       "      <td>1</td>\n",
       "      <td>0</td>\n",
       "      <td>35</td>\n",
       "      <td>206</td>\n",
       "    </tr>\n",
       "    <tr>\n",
       "      <th>2</th>\n",
       "      <td>88</td>\n",
       "      <td>0</td>\n",
       "      <td>1</td>\n",
       "      <td>1</td>\n",
       "      <td>1</td>\n",
       "      <td>124</td>\n",
       "      <td>118</td>\n",
       "      <td>79</td>\n",
       "      <td>2</td>\n",
       "      <td>0</td>\n",
       "      <td>35</td>\n",
       "      <td>239</td>\n",
       "    </tr>\n",
       "    <tr>\n",
       "      <th>3</th>\n",
       "      <td>58</td>\n",
       "      <td>0</td>\n",
       "      <td>4</td>\n",
       "      <td>1</td>\n",
       "      <td>0</td>\n",
       "      <td>126</td>\n",
       "      <td>105</td>\n",
       "      <td>198</td>\n",
       "      <td>0</td>\n",
       "      <td>0</td>\n",
       "      <td>25</td>\n",
       "      <td>222</td>\n",
       "    </tr>\n",
       "    <tr>\n",
       "      <th>4</th>\n",
       "      <td>50</td>\n",
       "      <td>1</td>\n",
       "      <td>3</td>\n",
       "      <td>1</td>\n",
       "      <td>2</td>\n",
       "      <td>140</td>\n",
       "      <td>106</td>\n",
       "      <td>87</td>\n",
       "      <td>0</td>\n",
       "      <td>0</td>\n",
       "      <td>39</td>\n",
       "      <td>222</td>\n",
       "    </tr>\n",
       "  </tbody>\n",
       "</table>\n",
       "</div>"
      ],
      "text/plain": [
       "   age  gender  nhiss  severity_level  mrs  systolic  distolic  glucose  \\\n",
       "0   75       1      4               1    1       140        89      190   \n",
       "1   68       1      1               1    1       133       116      174   \n",
       "2   88       0      1               1    1       124       118       79   \n",
       "3   58       0      4               1    0       126       105      198   \n",
       "4   50       1      3               1    2       140       106       87   \n",
       "\n",
       "   paralysis  smoking  bmi  cholestrol  \n",
       "0          1        1   25         205  \n",
       "1          1        0   35         206  \n",
       "2          2        0   35         239  \n",
       "3          0        0   25         222  \n",
       "4          0        0   39         222  "
      ]
     },
     "execution_count": 108,
     "metadata": {},
     "output_type": "execute_result"
    }
   ],
   "source": [
    "X.head()"
   ]
  },
  {
   "cell_type": "code",
   "execution_count": 109,
   "id": "1a5d8613",
   "metadata": {},
   "outputs": [],
   "source": [
    "X = pd.get_dummies(X, drop_first=True)"
   ]
  },
  {
   "cell_type": "code",
   "execution_count": 110,
   "id": "6fe3af13",
   "metadata": {},
   "outputs": [
    {
     "data": {
      "text/html": [
       "<div>\n",
       "<style scoped>\n",
       "    .dataframe tbody tr th:only-of-type {\n",
       "        vertical-align: middle;\n",
       "    }\n",
       "\n",
       "    .dataframe tbody tr th {\n",
       "        vertical-align: top;\n",
       "    }\n",
       "\n",
       "    .dataframe thead th {\n",
       "        text-align: right;\n",
       "    }\n",
       "</style>\n",
       "<table border=\"1\" class=\"dataframe\">\n",
       "  <thead>\n",
       "    <tr style=\"text-align: right;\">\n",
       "      <th></th>\n",
       "      <th>age</th>\n",
       "      <th>gender</th>\n",
       "      <th>nhiss</th>\n",
       "      <th>severity_level</th>\n",
       "      <th>mrs</th>\n",
       "      <th>systolic</th>\n",
       "      <th>distolic</th>\n",
       "      <th>glucose</th>\n",
       "      <th>paralysis</th>\n",
       "      <th>smoking</th>\n",
       "      <th>bmi</th>\n",
       "      <th>cholestrol</th>\n",
       "    </tr>\n",
       "  </thead>\n",
       "  <tbody>\n",
       "    <tr>\n",
       "      <th>0</th>\n",
       "      <td>75</td>\n",
       "      <td>1</td>\n",
       "      <td>4</td>\n",
       "      <td>1</td>\n",
       "      <td>1</td>\n",
       "      <td>140</td>\n",
       "      <td>89</td>\n",
       "      <td>190</td>\n",
       "      <td>1</td>\n",
       "      <td>1</td>\n",
       "      <td>25</td>\n",
       "      <td>205</td>\n",
       "    </tr>\n",
       "    <tr>\n",
       "      <th>1</th>\n",
       "      <td>68</td>\n",
       "      <td>1</td>\n",
       "      <td>1</td>\n",
       "      <td>1</td>\n",
       "      <td>1</td>\n",
       "      <td>133</td>\n",
       "      <td>116</td>\n",
       "      <td>174</td>\n",
       "      <td>1</td>\n",
       "      <td>0</td>\n",
       "      <td>35</td>\n",
       "      <td>206</td>\n",
       "    </tr>\n",
       "    <tr>\n",
       "      <th>2</th>\n",
       "      <td>88</td>\n",
       "      <td>0</td>\n",
       "      <td>1</td>\n",
       "      <td>1</td>\n",
       "      <td>1</td>\n",
       "      <td>124</td>\n",
       "      <td>118</td>\n",
       "      <td>79</td>\n",
       "      <td>2</td>\n",
       "      <td>0</td>\n",
       "      <td>35</td>\n",
       "      <td>239</td>\n",
       "    </tr>\n",
       "    <tr>\n",
       "      <th>3</th>\n",
       "      <td>58</td>\n",
       "      <td>0</td>\n",
       "      <td>4</td>\n",
       "      <td>1</td>\n",
       "      <td>0</td>\n",
       "      <td>126</td>\n",
       "      <td>105</td>\n",
       "      <td>198</td>\n",
       "      <td>0</td>\n",
       "      <td>0</td>\n",
       "      <td>25</td>\n",
       "      <td>222</td>\n",
       "    </tr>\n",
       "    <tr>\n",
       "      <th>4</th>\n",
       "      <td>50</td>\n",
       "      <td>1</td>\n",
       "      <td>3</td>\n",
       "      <td>1</td>\n",
       "      <td>2</td>\n",
       "      <td>140</td>\n",
       "      <td>106</td>\n",
       "      <td>87</td>\n",
       "      <td>0</td>\n",
       "      <td>0</td>\n",
       "      <td>39</td>\n",
       "      <td>222</td>\n",
       "    </tr>\n",
       "  </tbody>\n",
       "</table>\n",
       "</div>"
      ],
      "text/plain": [
       "   age  gender  nhiss  severity_level  mrs  systolic  distolic  glucose  \\\n",
       "0   75       1      4               1    1       140        89      190   \n",
       "1   68       1      1               1    1       133       116      174   \n",
       "2   88       0      1               1    1       124       118       79   \n",
       "3   58       0      4               1    0       126       105      198   \n",
       "4   50       1      3               1    2       140       106       87   \n",
       "\n",
       "   paralysis  smoking  bmi  cholestrol  \n",
       "0          1        1   25         205  \n",
       "1          1        0   35         206  \n",
       "2          2        0   35         239  \n",
       "3          0        0   25         222  \n",
       "4          0        0   39         222  "
      ]
     },
     "execution_count": 110,
     "metadata": {},
     "output_type": "execute_result"
    }
   ],
   "source": [
    "X.head()"
   ]
  },
  {
   "cell_type": "code",
   "execution_count": 111,
   "id": "e4d31362",
   "metadata": {},
   "outputs": [
    {
     "data": {
      "text/plain": [
       "Index(['age', 'gender', 'nhiss', 'severity_level', 'mrs', 'systolic',\n",
       "       'distolic', 'glucose', 'paralysis', 'smoking', 'bmi', 'cholestrol'],\n",
       "      dtype='object')"
      ]
     },
     "execution_count": 111,
     "metadata": {},
     "output_type": "execute_result"
    }
   ],
   "source": [
    "X.columns"
   ]
  },
  {
   "cell_type": "code",
   "execution_count": 112,
   "id": "591e4de8",
   "metadata": {},
   "outputs": [],
   "source": [
    "X = X[['age', 'gender', 'nhiss', 'severity_level', 'mrs', 'systolic',\n",
    "       'distolic', 'glucose', 'paralysis', 'smoking', 'bmi', 'cholestrol']]"
   ]
  },
  {
   "cell_type": "code",
   "execution_count": 113,
   "id": "9fc218f2",
   "metadata": {},
   "outputs": [
    {
     "data": {
      "text/html": [
       "<div>\n",
       "<style scoped>\n",
       "    .dataframe tbody tr th:only-of-type {\n",
       "        vertical-align: middle;\n",
       "    }\n",
       "\n",
       "    .dataframe tbody tr th {\n",
       "        vertical-align: top;\n",
       "    }\n",
       "\n",
       "    .dataframe thead th {\n",
       "        text-align: right;\n",
       "    }\n",
       "</style>\n",
       "<table border=\"1\" class=\"dataframe\">\n",
       "  <thead>\n",
       "    <tr style=\"text-align: right;\">\n",
       "      <th></th>\n",
       "      <th>age</th>\n",
       "      <th>gender</th>\n",
       "      <th>nhiss</th>\n",
       "      <th>severity_level</th>\n",
       "      <th>mrs</th>\n",
       "      <th>systolic</th>\n",
       "      <th>distolic</th>\n",
       "      <th>glucose</th>\n",
       "      <th>paralysis</th>\n",
       "      <th>smoking</th>\n",
       "      <th>bmi</th>\n",
       "      <th>cholestrol</th>\n",
       "    </tr>\n",
       "  </thead>\n",
       "  <tbody>\n",
       "    <tr>\n",
       "      <th>0</th>\n",
       "      <td>75</td>\n",
       "      <td>1</td>\n",
       "      <td>4</td>\n",
       "      <td>1</td>\n",
       "      <td>1</td>\n",
       "      <td>140</td>\n",
       "      <td>89</td>\n",
       "      <td>190</td>\n",
       "      <td>1</td>\n",
       "      <td>1</td>\n",
       "      <td>25</td>\n",
       "      <td>205</td>\n",
       "    </tr>\n",
       "    <tr>\n",
       "      <th>1</th>\n",
       "      <td>68</td>\n",
       "      <td>1</td>\n",
       "      <td>1</td>\n",
       "      <td>1</td>\n",
       "      <td>1</td>\n",
       "      <td>133</td>\n",
       "      <td>116</td>\n",
       "      <td>174</td>\n",
       "      <td>1</td>\n",
       "      <td>0</td>\n",
       "      <td>35</td>\n",
       "      <td>206</td>\n",
       "    </tr>\n",
       "    <tr>\n",
       "      <th>2</th>\n",
       "      <td>88</td>\n",
       "      <td>0</td>\n",
       "      <td>1</td>\n",
       "      <td>1</td>\n",
       "      <td>1</td>\n",
       "      <td>124</td>\n",
       "      <td>118</td>\n",
       "      <td>79</td>\n",
       "      <td>2</td>\n",
       "      <td>0</td>\n",
       "      <td>35</td>\n",
       "      <td>239</td>\n",
       "    </tr>\n",
       "    <tr>\n",
       "      <th>3</th>\n",
       "      <td>58</td>\n",
       "      <td>0</td>\n",
       "      <td>4</td>\n",
       "      <td>1</td>\n",
       "      <td>0</td>\n",
       "      <td>126</td>\n",
       "      <td>105</td>\n",
       "      <td>198</td>\n",
       "      <td>0</td>\n",
       "      <td>0</td>\n",
       "      <td>25</td>\n",
       "      <td>222</td>\n",
       "    </tr>\n",
       "    <tr>\n",
       "      <th>4</th>\n",
       "      <td>50</td>\n",
       "      <td>1</td>\n",
       "      <td>3</td>\n",
       "      <td>1</td>\n",
       "      <td>2</td>\n",
       "      <td>140</td>\n",
       "      <td>106</td>\n",
       "      <td>87</td>\n",
       "      <td>0</td>\n",
       "      <td>0</td>\n",
       "      <td>39</td>\n",
       "      <td>222</td>\n",
       "    </tr>\n",
       "  </tbody>\n",
       "</table>\n",
       "</div>"
      ],
      "text/plain": [
       "   age  gender  nhiss  severity_level  mrs  systolic  distolic  glucose  \\\n",
       "0   75       1      4               1    1       140        89      190   \n",
       "1   68       1      1               1    1       133       116      174   \n",
       "2   88       0      1               1    1       124       118       79   \n",
       "3   58       0      4               1    0       126       105      198   \n",
       "4   50       1      3               1    2       140       106       87   \n",
       "\n",
       "   paralysis  smoking  bmi  cholestrol  \n",
       "0          1        1   25         205  \n",
       "1          1        0   35         206  \n",
       "2          2        0   35         239  \n",
       "3          0        0   25         222  \n",
       "4          0        0   39         222  "
      ]
     },
     "execution_count": 113,
     "metadata": {},
     "output_type": "execute_result"
    }
   ],
   "source": [
    "X.head()"
   ]
  },
  {
   "cell_type": "code",
   "execution_count": 114,
   "id": "d0e9e439",
   "metadata": {},
   "outputs": [],
   "source": [
    "# Train-Test Split:\n",
    "from sklearn.model_selection import train_test_split\n",
    "X_train, X_test, y_train, y_test = train_test_split(X,y, test_size=0.2, random_state=0)"
   ]
  },
  {
   "cell_type": "code",
   "execution_count": 115,
   "id": "2653c37e",
   "metadata": {},
   "outputs": [
    {
     "name": "stdout",
     "output_type": "stream",
     "text": [
      "(3640, 12)\n",
      "(910, 12)\n"
     ]
    }
   ],
   "source": [
    "print(X_train.shape)\n",
    "print(X_test.shape)"
   ]
  },
  {
   "cell_type": "code",
   "execution_count": 116,
   "id": "9d44728a",
   "metadata": {},
   "outputs": [],
   "source": [
    "# Importing Performance Metrics:\n",
    "from sklearn.metrics import accuracy_score, confusion_matrix, classification_report"
   ]
  },
  {
   "cell_type": "code",
   "execution_count": 117,
   "id": "e5f9d288",
   "metadata": {},
   "outputs": [
    {
     "name": "stdout",
     "output_type": "stream",
     "text": [
      "Accuracy: 0.676923076923077\n",
      "[[180  24  24]\n",
      " [ 20 239 107]\n",
      " [ 26  93 197]]\n",
      "              precision    recall  f1-score   support\n",
      "\n",
      "           1       0.80      0.79      0.79       228\n",
      "           2       0.67      0.65      0.66       366\n",
      "           3       0.60      0.62      0.61       316\n",
      "\n",
      "    accuracy                           0.68       910\n",
      "   macro avg       0.69      0.69      0.69       910\n",
      "weighted avg       0.68      0.68      0.68       910\n",
      "\n"
     ]
    }
   ],
   "source": [
    "# RandomForestClassifier:\n",
    "from sklearn.ensemble import RandomForestClassifier\n",
    "RandomForest = RandomForestClassifier()\n",
    "RandomForest = RandomForest.fit(X_train,y_train)\n",
    "\n",
    "# Predictions:\n",
    "y_pred = RandomForest.predict(X_test)\n",
    "\n",
    "# Performance:\n",
    "print('Accuracy:', accuracy_score(y_test,y_pred))\n",
    "print(confusion_matrix(y_test,y_pred))\n",
    "print(classification_report(y_test,y_pred))"
   ]
  },
  {
   "cell_type": "markdown",
   "id": "67a75630",
   "metadata": {},
   "source": [
    "# An AdaBoost classifier.\n",
    "\n",
    "An AdaBoost [1] classifier is a meta-estimator that begins by fitting a classifier on the original dataset and then fits additional copies of the classifier on the same dataset but where the weights of incorrectly classified instances are adjusted such that subsequent classifiers focus more on difficult cases."
   ]
  },
  {
   "cell_type": "code",
   "execution_count": 118,
   "id": "6f57b7f0",
   "metadata": {},
   "outputs": [
    {
     "name": "stdout",
     "output_type": "stream",
     "text": [
      "Accuracy: 0.7164835164835165\n",
      "[[156  29  43]\n",
      " [ 25 289  52]\n",
      " [ 36  73 207]]\n",
      "              precision    recall  f1-score   support\n",
      "\n",
      "           1       0.72      0.68      0.70       228\n",
      "           2       0.74      0.79      0.76       366\n",
      "           3       0.69      0.66      0.67       316\n",
      "\n",
      "    accuracy                           0.72       910\n",
      "   macro avg       0.71      0.71      0.71       910\n",
      "weighted avg       0.72      0.72      0.72       910\n",
      "\n"
     ]
    }
   ],
   "source": [
    "# AdaBoostClassifier:\n",
    "from sklearn.ensemble import AdaBoostClassifier\n",
    "AdaBoost = AdaBoostClassifier()\n",
    "AdaBoost = AdaBoost.fit(X_train,y_train)\n",
    "\n",
    "# Predictions:\n",
    "y_pred = AdaBoost.predict(X_test)\n",
    "\n",
    "# Performance:\n",
    "print('Accuracy:', accuracy_score(y_test,y_pred))\n",
    "print(confusion_matrix(y_test,y_pred))\n",
    "print(classification_report(y_test,y_pred))"
   ]
  },
  {
   "cell_type": "markdown",
   "id": "4b7502fa",
   "metadata": {},
   "source": [
    "# Gradient Boosting for classification.\n",
    "\n",
    "This algorithm builds an additive model in a forward stage-wise fashion; it allows for the optimization of arbitrary differentiable loss functions. In each stage n_classes_ regression trees are fit on the negative gradient of the loss function, e.g. binary or multiclass log loss. Binary classification is a special case where only a single regression tree is induced."
   ]
  },
  {
   "cell_type": "code",
   "execution_count": 119,
   "id": "b277d57d",
   "metadata": {},
   "outputs": [
    {
     "name": "stdout",
     "output_type": "stream",
     "text": [
      "Accuracy: 0.7571428571428571\n",
      "[[178  21  29]\n",
      " [ 24 288  54]\n",
      " [ 17  76 223]]\n",
      "              precision    recall  f1-score   support\n",
      "\n",
      "           1       0.81      0.78      0.80       228\n",
      "           2       0.75      0.79      0.77       366\n",
      "           3       0.73      0.71      0.72       316\n",
      "\n",
      "    accuracy                           0.76       910\n",
      "   macro avg       0.76      0.76      0.76       910\n",
      "weighted avg       0.76      0.76      0.76       910\n",
      "\n"
     ]
    }
   ],
   "source": [
    "# GradientBoostingClassifier:\n",
    "from sklearn.ensemble import GradientBoostingClassifier\n",
    "GradientBoost = GradientBoostingClassifier()\n",
    "GradientBoost = GradientBoost.fit(X_train,y_train)\n",
    "\n",
    "# Predictions:\n",
    "y_pred = GradientBoost.predict(X_test)\n",
    "\n",
    "# Performance:\n",
    "print('Accuracy:', accuracy_score(y_test,y_pred))\n",
    "print(confusion_matrix(y_test,y_pred))\n",
    "print(classification_report(y_test,y_pred))"
   ]
  },
  {
   "cell_type": "code",
   "execution_count": null,
   "id": "e3a11841",
   "metadata": {},
   "outputs": [],
   "source": []
  },
  {
   "cell_type": "code",
   "execution_count": null,
   "id": "e97325b3",
   "metadata": {},
   "outputs": [],
   "source": []
  }
 ],
 "metadata": {
  "kernelspec": {
   "display_name": "Python 3 (ipykernel)",
   "language": "python",
   "name": "python3"
  },
  "language_info": {
   "codemirror_mode": {
    "name": "ipython",
    "version": 3
   },
   "file_extension": ".py",
   "mimetype": "text/x-python",
   "name": "python",
   "nbconvert_exporter": "python",
   "pygments_lexer": "ipython3",
   "version": "3.9.12"
  }
 },
 "nbformat": 4,
 "nbformat_minor": 5
}
